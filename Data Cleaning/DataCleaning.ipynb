{
 "cells": [
  {
   "cell_type": "code",
   "execution_count": 1,
   "id": "1b04988e-a79d-4225-bc60-58e1e4835182",
   "metadata": {},
   "outputs": [],
   "source": [
    "import warnings\n",
    "warnings.filterwarnings(\"ignore\")\n",
    "\n",
    "import pandas as pd\n",
    "import numpy as np"
   ]
  },
  {
   "cell_type": "markdown",
   "id": "0119b537-959d-4bdf-9b2a-19c068796832",
   "metadata": {},
   "source": [
    "<hr>"
   ]
  },
  {
   "cell_type": "markdown",
   "id": "ed358722-04ff-4665-a60b-d00e74839719",
   "metadata": {
    "tags": []
   },
   "source": [
    "## **Load Data**"
   ]
  },
  {
   "cell_type": "code",
   "execution_count": 10,
   "id": "bbe2c421-4abd-4039-98e2-1c7e34f7fa66",
   "metadata": {},
   "outputs": [],
   "source": [
    "data = pd.read_csv('c:\\\\Users\\\\USER\\\\Desktop\\\\project\\\\End-to-End-main\\\\End-to-End-main\\\\Chrun Management\\\\dataset\\\\Telco-Customer-Churn.csv')"
   ]
  },
  {
   "cell_type": "markdown",
   "id": "38008538-9b7f-426a-9d6e-e008b28cd6b9",
   "metadata": {},
   "source": [
    "In order to reserve the original data, we make a copy of it."
   ]
  },
  {
   "cell_type": "code",
   "execution_count": 11,
   "id": "a56c4178-d64f-4646-bad0-f15a26c63f8f",
   "metadata": {},
   "outputs": [],
   "source": [
    "df = data.copy()"
   ]
  },
  {
   "cell_type": "code",
   "execution_count": 36,
   "id": "9ed13b6e-8f45-46a9-99b7-4c8a17e67ade",
   "metadata": {},
   "outputs": [
    {
     "data": {
      "text/html": [
       "<div>\n",
       "<style scoped>\n",
       "    .dataframe tbody tr th:only-of-type {\n",
       "        vertical-align: middle;\n",
       "    }\n",
       "\n",
       "    .dataframe tbody tr th {\n",
       "        vertical-align: top;\n",
       "    }\n",
       "\n",
       "    .dataframe thead th {\n",
       "        text-align: right;\n",
       "    }\n",
       "</style>\n",
       "<table border=\"1\" class=\"dataframe\">\n",
       "  <thead>\n",
       "    <tr style=\"text-align: right;\">\n",
       "      <th></th>\n",
       "      <th>customerID</th>\n",
       "      <th>gender</th>\n",
       "      <th>SeniorCitizen</th>\n",
       "      <th>Dependents</th>\n",
       "      <th>tenure</th>\n",
       "      <th>MultipleLines</th>\n",
       "      <th>InternetService</th>\n",
       "      <th>OnlineSecurity</th>\n",
       "      <th>OnlineBackup</th>\n",
       "      <th>DeviceProtection</th>\n",
       "      <th>TechSupport</th>\n",
       "      <th>StreamingTV</th>\n",
       "      <th>StreamingMovies</th>\n",
       "      <th>Contract</th>\n",
       "      <th>PaperlessBilling</th>\n",
       "      <th>PaymentMethod</th>\n",
       "      <th>MonthlyCharges</th>\n",
       "      <th>TotalCharges</th>\n",
       "      <th>Churn</th>\n",
       "    </tr>\n",
       "  </thead>\n",
       "  <tbody>\n",
       "    <tr>\n",
       "      <th>0</th>\n",
       "      <td>7590-VHVEG</td>\n",
       "      <td>Female</td>\n",
       "      <td>0</td>\n",
       "      <td>No</td>\n",
       "      <td>1</td>\n",
       "      <td>No phone service</td>\n",
       "      <td>DSL</td>\n",
       "      <td>No</td>\n",
       "      <td>Yes</td>\n",
       "      <td>No</td>\n",
       "      <td>No</td>\n",
       "      <td>No</td>\n",
       "      <td>No</td>\n",
       "      <td>Month-to-month</td>\n",
       "      <td>Yes</td>\n",
       "      <td>Electronic check</td>\n",
       "      <td>29.85</td>\n",
       "      <td>29.85</td>\n",
       "      <td>No</td>\n",
       "    </tr>\n",
       "    <tr>\n",
       "      <th>1</th>\n",
       "      <td>5575-GNVDE</td>\n",
       "      <td>Male</td>\n",
       "      <td>0</td>\n",
       "      <td>No</td>\n",
       "      <td>34</td>\n",
       "      <td>No</td>\n",
       "      <td>DSL</td>\n",
       "      <td>Yes</td>\n",
       "      <td>No</td>\n",
       "      <td>Yes</td>\n",
       "      <td>No</td>\n",
       "      <td>No</td>\n",
       "      <td>No</td>\n",
       "      <td>One year</td>\n",
       "      <td>No</td>\n",
       "      <td>Mailed check</td>\n",
       "      <td>56.95</td>\n",
       "      <td>1889.5</td>\n",
       "      <td>No</td>\n",
       "    </tr>\n",
       "    <tr>\n",
       "      <th>2</th>\n",
       "      <td>3668-QPYBK</td>\n",
       "      <td>Male</td>\n",
       "      <td>0</td>\n",
       "      <td>No</td>\n",
       "      <td>2</td>\n",
       "      <td>No</td>\n",
       "      <td>DSL</td>\n",
       "      <td>Yes</td>\n",
       "      <td>Yes</td>\n",
       "      <td>No</td>\n",
       "      <td>No</td>\n",
       "      <td>No</td>\n",
       "      <td>No</td>\n",
       "      <td>Month-to-month</td>\n",
       "      <td>Yes</td>\n",
       "      <td>Mailed check</td>\n",
       "      <td>53.85</td>\n",
       "      <td>108.15</td>\n",
       "      <td>Yes</td>\n",
       "    </tr>\n",
       "  </tbody>\n",
       "</table>\n",
       "</div>"
      ],
      "text/plain": [
       "   customerID  gender  SeniorCitizen Dependents  tenure     MultipleLines  \\\n",
       "0  7590-VHVEG  Female              0         No       1  No phone service   \n",
       "1  5575-GNVDE    Male              0         No      34                No   \n",
       "2  3668-QPYBK    Male              0         No       2                No   \n",
       "\n",
       "  InternetService OnlineSecurity OnlineBackup DeviceProtection TechSupport  \\\n",
       "0             DSL             No          Yes               No          No   \n",
       "1             DSL            Yes           No              Yes          No   \n",
       "2             DSL            Yes          Yes               No          No   \n",
       "\n",
       "  StreamingTV StreamingMovies        Contract PaperlessBilling  \\\n",
       "0          No              No  Month-to-month              Yes   \n",
       "1          No              No        One year               No   \n",
       "2          No              No  Month-to-month              Yes   \n",
       "\n",
       "      PaymentMethod  MonthlyCharges TotalCharges Churn  \n",
       "0  Electronic check           29.85        29.85    No  \n",
       "1      Mailed check           56.95       1889.5    No  \n",
       "2      Mailed check           53.85       108.15   Yes  "
      ]
     },
     "execution_count": 36,
     "metadata": {},
     "output_type": "execute_result"
    }
   ],
   "source": [
    "df.head(3)"
   ]
  },
  {
   "cell_type": "markdown",
   "id": "06fe8cf3-21b2-4582-bfa7-c142d1229cbe",
   "metadata": {},
   "source": [
    "<hr>"
   ]
  },
  {
   "cell_type": "markdown",
   "id": "a806dd0b-f0c2-4831-a45b-a1570ed14fc9",
   "metadata": {
    "tags": []
   },
   "source": [
    "#### Check Variable Names, Order and Necessity"
   ]
  },
  {
   "cell_type": "markdown",
   "id": "2a07ff5f-9f87-4fc3-9b01-062f6a675dae",
   "metadata": {},
   "source": [
    "Column names provide a clear identification of the data contained within each column. By reviewing the column names, we can quickly understand the type of information stored in each column. This helps we make sense of the data and interpret it correctly."
   ]
  },
  {
   "cell_type": "code",
   "execution_count": 12,
   "id": "41991ab8-a5e7-4207-85ec-9b0a49a91438",
   "metadata": {},
   "outputs": [
    {
     "data": {
      "text/plain": [
       "Index(['customerID', 'gender', 'SeniorCitizen', 'Dependents', 'tenure',\n",
       "       'MultipleLines', 'InternetService', 'OnlineSecurity', 'OnlineBackup',\n",
       "       'DeviceProtection', 'TechSupport', 'StreamingTV', 'StreamingMovies',\n",
       "       'Contract', 'PaperlessBilling', 'PaymentMethod', 'MonthlyCharges',\n",
       "       'TotalCharges', 'Churn'],\n",
       "      dtype='object')"
      ]
     },
     "execution_count": 12,
     "metadata": {},
     "output_type": "execute_result"
    }
   ],
   "source": [
    "df.columns"
   ]
  },
  {
   "cell_type": "markdown",
   "id": "fe82b9bb-759c-4ba9-8e1a-08d97e93a149",
   "metadata": {},
   "source": [
    "Now, we change the order of the columns:"
   ]
  },
  {
   "cell_type": "code",
   "execution_count": 13,
   "id": "4bf238df-8a0c-4d51-be77-ab172081869d",
   "metadata": {},
   "outputs": [],
   "source": [
    "col_order = ['customerID', \n",
    "             'Dependents', 'MultipleLines',  'OnlineSecurity',\n",
    "             'OnlineBackup', 'DeviceProtection', 'TechSupport', 'StreamingTV','StreamingMovies','PaperlessBilling',\n",
    "             'gender', 'InternetService', 'Contract',  'PaymentMethod',\n",
    "             'SeniorCitizen', 'tenure', 'MonthlyCharges', 'TotalCharges', \n",
    "             'Churn']\n",
    "\n",
    "df = df[col_order]"
   ]
  },
  {
   "cell_type": "markdown",
   "id": "58bbcecd-c5e8-4159-8e0d-8f40e12ba8e3",
   "metadata": {
    "tags": []
   },
   "source": [
    "#### Check Data Type"
   ]
  },
  {
   "cell_type": "markdown",
   "id": "b84c2ed5-a2a6-4b92-927a-4b349d3d0df2",
   "metadata": {},
   "source": [
    "Checking the data types is an important step in data cleaning because it helps ensure the consistency, accuracy, and reliability of the data."
   ]
  },
  {
   "cell_type": "code",
   "execution_count": 6,
   "id": "9500f601-c7b5-462e-942b-1c29cf3794ca",
   "metadata": {},
   "outputs": [
    {
     "data": {
      "text/plain": [
       "customerID           object\n",
       "Dependents           object\n",
       "MultipleLines        object\n",
       "OnlineSecurity       object\n",
       "OnlineBackup         object\n",
       "DeviceProtection     object\n",
       "TechSupport          object\n",
       "StreamingTV          object\n",
       "StreamingMovies      object\n",
       "PaperlessBilling     object\n",
       "gender               object\n",
       "InternetService      object\n",
       "Contract             object\n",
       "PaymentMethod        object\n",
       "SeniorCitizen         int64\n",
       "tenure                int64\n",
       "MonthlyCharges      float64\n",
       "TotalCharges         object\n",
       "Churn                object\n",
       "dtype: object"
      ]
     },
     "execution_count": 6,
     "metadata": {},
     "output_type": "execute_result"
    }
   ],
   "source": [
    "df.dtypes"
   ]
  },
  {
   "cell_type": "markdown",
   "id": "a1f68761-0019-4afe-a65f-a495c0864781",
   "metadata": {},
   "source": [
    "Based on data documentation, we must check whether the data type of variables is correct or not.\n",
    "* `customerID`: String *(Lable)*\n",
    "* `Dependents`: String *(Binary)*\n",
    "* `MultipleLines`: String *(Binary)*\n",
    "* `OnlineSecurity`: String *(Binary)*\n",
    "* `OnlineBackup`: String *(Binary)*\n",
    "* `DeviceProtection`: String *(Binary)*\n",
    "* `TechSupport`: String *(Binary)*\n",
    "* `StreamingTV`: String *(Binary)*\n",
    "* `StreamingMovies`: String *(Binary)*\n",
    "* `PaperlessBilling`: String *(Binary)*\n",
    "* `gender`: String *(Categorical)*\n",
    "* `InternetService`: String *(Categorical)*\n",
    "* `Contract`: String *(Categorical)*\n",
    "* `PaymentMethod`: String *(Categorical)*\n",
    "* `SeniorCitizen`: Number *(Numerical)*\n",
    "* `tenure`: Number *(Numerical)*\n",
    "* `MonthlyCharges`: Number *(Numerical)*\n",
    "* `TotalCharges`: Number *(Numerical)*\n",
    "* `Churn`: String *(Binary)*"
   ]
  },
  {
   "cell_type": "markdown",
   "id": "6712d2b4-27a0-4ad0-ab50-6cdf3f4cab35",
   "metadata": {},
   "source": [
    "The result shows, there is something wrong about `TotalCharges`."
   ]
  },
  {
   "cell_type": "code",
   "execution_count": 14,
   "id": "e0e6e604-c6f0-465b-b887-9a167ab7d619",
   "metadata": {},
   "outputs": [
    {
     "data": {
      "text/plain": [
       "array(['29.85', '1889.5', '108.15', ..., '346.45', '306.6', '6844.5'],\n",
       "      dtype=object)"
      ]
     },
     "execution_count": 14,
     "metadata": {},
     "output_type": "execute_result"
    }
   ],
   "source": [
    "df['TotalCharges'].unique()"
   ]
  },
  {
   "cell_type": "markdown",
   "id": "63da6c7d-0832-4497-93de-aaa09d160ea0",
   "metadata": {},
   "source": [
    "it shows we must remove '' from numbers."
   ]
  },
  {
   "cell_type": "code",
   "execution_count": 15,
   "id": "44b88c77-03b7-4c85-a4f1-f52cee4ac98b",
   "metadata": {},
   "outputs": [],
   "source": [
    "df['TotalCharges'] = pd.to_numeric(df['TotalCharges'], errors='coerce')"
   ]
  },
  {
   "cell_type": "markdown",
   "id": "0ddf642e-22fb-4915-8aba-ef030bcd1807",
   "metadata": {
    "tags": []
   },
   "source": [
    "#### Handle Missing Values"
   ]
  },
  {
   "cell_type": "markdown",
   "id": "ff611560-eee6-428e-8a1c-de852b123e0c",
   "metadata": {},
   "source": [
    "Checking for missing values is an important step in data cleaning because missing values can have a significant impact on the quality and reliability of the data analysis. Missing values can lead to incomplete or inaccurate data, which can skew the analysis and produce misleading results. By identifying and handling missing values appropriately, we ensure the integrity and reliability of the data."
   ]
  },
  {
   "cell_type": "code",
   "execution_count": 9,
   "id": "610ae2cd-2a53-4fa4-a43f-cf2b8afbf047",
   "metadata": {},
   "outputs": [
    {
     "data": {
      "text/html": [
       "<div>\n",
       "<style scoped>\n",
       "    .dataframe tbody tr th:only-of-type {\n",
       "        vertical-align: middle;\n",
       "    }\n",
       "\n",
       "    .dataframe tbody tr th {\n",
       "        vertical-align: top;\n",
       "    }\n",
       "\n",
       "    .dataframe thead th {\n",
       "        text-align: right;\n",
       "    }\n",
       "</style>\n",
       "<table border=\"1\" class=\"dataframe\">\n",
       "  <thead>\n",
       "    <tr style=\"text-align: right;\">\n",
       "      <th></th>\n",
       "      <th>count</th>\n",
       "      <th>%pct</th>\n",
       "    </tr>\n",
       "  </thead>\n",
       "  <tbody>\n",
       "    <tr>\n",
       "      <th>TotalCharges</th>\n",
       "      <td>11</td>\n",
       "      <td>0.001562</td>\n",
       "    </tr>\n",
       "  </tbody>\n",
       "</table>\n",
       "</div>"
      ],
      "text/plain": [
       "              count      %pct\n",
       "TotalCharges     11  0.001562"
      ]
     },
     "execution_count": 9,
     "metadata": {},
     "output_type": "execute_result"
    }
   ],
   "source": [
    "def nulls(df):\n",
    "    null_values = pd.DataFrame(df.isnull().sum())\n",
    "    null_values[1] = null_values[0] / len(df)\n",
    "    null_values.columns = ['count','%pct']\n",
    "    filtered_null = null_values[null_values['%pct'] > 0].sort_values(by='%pct', ascending=False)\n",
    "    return filtered_null\n",
    "\n",
    "nulls(df)"
   ]
  },
  {
   "cell_type": "markdown",
   "id": "db7e2aaf-0f28-40a6-adda-eb293c89b5b8",
   "metadata": {},
   "source": [
    ">**Strategy One: Drop Column**\n",
    "\n",
    "* The percentage of null value is more than 70%."
   ]
  },
  {
   "cell_type": "markdown",
   "id": "00067f92-6948-46d5-92d1-a3a414b5b0db",
   "metadata": {},
   "source": [
    ">**Strategy Two: Drop Rows:**\n",
    "\n",
    "* The percentage of null value is less than 5%."
   ]
  },
  {
   "cell_type": "markdown",
   "id": "0f3a5809-bbe4-476f-b67e-f8125b9b0a49",
   "metadata": {},
   "source": [
    ">**Strategy Three: Impute with Mode:**\n",
    "\n",
    "* The percentage of null value is between 5% and 10%.\n",
    "* The datatype is categorical or lable"
   ]
  },
  {
   "cell_type": "markdown",
   "id": "b008f747-5b44-4bb1-9949-ac46319a0362",
   "metadata": {},
   "source": [
    ">**Strategy Four: Impute with Mean or Median:**\n",
    "\n",
    "* The percentage of null value is between 5% and 10%.\n",
    "* The datatype is numerical"
   ]
  },
  {
   "cell_type": "markdown",
   "id": "4bc4a820-223b-439f-ac3a-2f16d96458d7",
   "metadata": {},
   "source": [
    ">**Strategy Five: Impute with KNN Method:**\n",
    "\n",
    "* The percentage of null value is between 10% and 70%.\n",
    "* The datatype is categorical lable\n",
    "* They are not MNAR"
   ]
  },
  {
   "cell_type": "markdown",
   "id": "a7c71a1b-2901-406e-804b-3065d07fce41",
   "metadata": {},
   "source": [
    ">**Strategy Six: Impute with KNN Method:**\n",
    "\n",
    "* The percentage of null value is between 10% and 70%.\n",
    "* The datatype is Number\n",
    "* They are not MNAR"
   ]
  },
  {
   "cell_type": "markdown",
   "id": "7f71ccb5-e2f8-4113-992f-497e3c2536b6",
   "metadata": {},
   "source": [
    "We choose the startegy Two and remove the rows."
   ]
  },
  {
   "cell_type": "code",
   "execution_count": 16,
   "id": "1bb3e9e0-323d-45ea-b824-a365861ce616",
   "metadata": {},
   "outputs": [],
   "source": [
    "df = df.dropna(subset = ['TotalCharges'])"
   ]
  },
  {
   "cell_type": "markdown",
   "id": "d05a807c-3202-4d5e-ba61-27fc9a555832",
   "metadata": {
    "tags": []
   },
   "source": [
    "#### **1.4-Check Duplicate Rows**"
   ]
  },
  {
   "cell_type": "markdown",
   "id": "d25ba8bd-ba22-40f7-9e8e-0f57b8f0caf8",
   "metadata": {},
   "source": [
    "Duplicate rows can compromise the integrity of the dataset. If we have multiple identical rows, it can lead to inaccurate statistical analysis, misleading results, and duplicate entries in downstream processes. By identifying and removing duplicate rows, we ensure that the data accurately represents the underlying information."
   ]
  },
  {
   "cell_type": "code",
   "execution_count": 17,
   "id": "ae6bd490-0074-43da-9ad4-cfbe5b266a23",
   "metadata": {},
   "outputs": [
    {
     "data": {
      "text/plain": [
       "0"
      ]
     },
     "execution_count": 17,
     "metadata": {},
     "output_type": "execute_result"
    }
   ],
   "source": [
    "df.duplicated().sum()"
   ]
  },
  {
   "cell_type": "markdown",
   "id": "fa4d63cf-0a9c-4245-b3f3-a5420d0c3e8b",
   "metadata": {},
   "source": [
    "As we can see, they are differenet policies based on the business line. So, they are not duplicated rows."
   ]
  },
  {
   "cell_type": "markdown",
   "id": "d607e8ca-8140-4a9d-88e5-2f7d78f7123f",
   "metadata": {
    "tags": []
   },
   "source": [
    "## Numbers\n",
    "\n",
    "* Check Possible Range \n",
    "* Sanity Check"
   ]
  },
  {
   "cell_type": "markdown",
   "id": "69b7d411-f38d-4a8c-ad2f-0f2f85cbbc9b",
   "metadata": {
    "tags": []
   },
   "source": [
    "#### Check Possible Range"
   ]
  },
  {
   "cell_type": "markdown",
   "id": "1207adea-508b-418f-812f-f74261aeb4a9",
   "metadata": {},
   "source": [
    "Checking the possible range is an important step in data cleaning because it helps identify and handle data values that fall outside the expected or valid range for a particular variable. By examining the range of values, we can identify outliers, data entry errors, or any other data points that are unlikely or impossible given the context of the data"
   ]
  },
  {
   "cell_type": "code",
   "execution_count": 18,
   "id": "7d876896-fb25-48ab-86ef-a6f1ca4ddd89",
   "metadata": {},
   "outputs": [
    {
     "data": {
      "text/plain": [
       "['SeniorCitizen', 'tenure', 'MonthlyCharges', 'TotalCharges']"
      ]
     },
     "execution_count": 18,
     "metadata": {},
     "output_type": "execute_result"
    }
   ],
   "source": [
    "num_var = [col for col in df.columns if df[col].dtypes != 'O']\n",
    "num_var"
   ]
  },
  {
   "cell_type": "code",
   "execution_count": 19,
   "id": "75dc7765-6334-44a8-8630-1ca73f8f5f33",
   "metadata": {},
   "outputs": [
    {
     "name": "stdout",
     "output_type": "stream",
     "text": [
      "SeniorCitizen | min 0 | max 1 | percentage %0.0\n",
      "tenure | min 1 | max 72 | percentage %0.0\n",
      "MonthlyCharges | min 18.25 | max 118.75 | percentage %0.0\n",
      "TotalCharges | min 18.8 | max 8684.8 | percentage %0.0\n"
     ]
    }
   ],
   "source": [
    "for i in range(len(num_var)):\n",
    "    per = round((len(df[df[num_var[i]] < 0]) / len(df)) * 100, 5)\n",
    "    print('{} | min {} | max {} | percentage %{}'.format(num_var[i], df[num_var[i]].min(), df[num_var[i]].max(), per))"
   ]
  },
  {
   "cell_type": "markdown",
   "id": "2137493c-b583-4d29-9e9e-0c2072fe35e1",
   "metadata": {
    "tags": []
   },
   "source": [
    "#### Sanity Check"
   ]
  },
  {
   "cell_type": "markdown",
   "id": "e03cb3c3-0b2f-43df-a499-c54b8f256998",
   "metadata": {
    "jp-MarkdownHeadingCollapsed": true,
    "tags": []
   },
   "source": [
    "Sanity checks can help ensure the consistency and integrity of the data. If two numerical variables are expected to have a certain relationship or dependency, a sanity check can help to understand. Among all numerical variables, first, we must realize there is a logical relationship between which variables. We should analye the relationship based on the data documentation.\n",
    "\n",
    "* sanity 1 : `MonthlyCharges` <= `TotalCharges`"
   ]
  },
  {
   "cell_type": "code",
   "execution_count": 14,
   "id": "b825bfd9-f9ab-476a-8370-28d05b693c06",
   "metadata": {},
   "outputs": [],
   "source": [
    "df['Sanity1'] = ['OK' if x <= y else 'NOT' for x, y in zip(df['MonthlyCharges'], df['TotalCharges'])]"
   ]
  },
  {
   "cell_type": "code",
   "execution_count": 20,
   "id": "4a655be2-162f-46d7-b19b-a55cb6636c89",
   "metadata": {},
   "outputs": [
    {
     "data": {
      "text/plain": [
       "0"
      ]
     },
     "execution_count": 20,
     "metadata": {},
     "output_type": "execute_result"
    }
   ],
   "source": [
    "df[df['Sanity1']=='NOT'].shape[0]"
   ]
  },
  {
   "cell_type": "markdown",
   "id": "321e6616-7ef9-4d41-abea-a37eed40641f",
   "metadata": {
    "tags": []
   },
   "source": [
    "## String\n",
    "\n",
    "* Trimming and Transformation \n",
    "* Check Possible Range "
   ]
  },
  {
   "cell_type": "markdown",
   "id": "fd1ffe83-31fa-4f3a-af92-785c402cb84e",
   "metadata": {
    "tags": []
   },
   "source": [
    "#### Trimming and Transformation"
   ]
  },
  {
   "cell_type": "markdown",
   "id": "f7173c11-751e-4b00-91a9-8e7f79a3dc4a",
   "metadata": {},
   "source": [
    "Text data often contains unwanted leading or trailing spaces, which can affect data integrity and analysis. Trimming these spaces ensures consistency and accuracy in subsequent operations."
   ]
  },
  {
   "cell_type": "code",
   "execution_count": 20,
   "id": "99bd72a5-90b5-4bd0-88da-3c97d809884e",
   "metadata": {},
   "outputs": [
    {
     "ename": "KeyError",
     "evalue": "\"None of [Index(['LOB', 'Pol_type', 'Gender', 'Marital'], dtype='object')] are in the [columns]\"",
     "output_type": "error",
     "traceback": [
      "\u001b[1;31m---------------------------------------------------------------------------\u001b[0m",
      "\u001b[1;31mKeyError\u001b[0m                                  Traceback (most recent call last)",
      "\u001b[1;32mc:\\Users\\USER\\Desktop\\project\\End-to-End-main\\End-to-End-main\\Chrun Management\\Data Cleaning\\DataCleaning.ipynb Cell 49\u001b[0m line \u001b[0;36m1\n\u001b[1;32m----> <a href='vscode-notebook-cell:/c%3A/Users/USER/Desktop/project/End-to-End-main/End-to-End-main/Chrun%20Management/Data%20Cleaning/DataCleaning.ipynb#Y103sZmlsZQ%3D%3D?line=0'>1</a>\u001b[0m df[[\u001b[39m'\u001b[39m\u001b[39mLOB\u001b[39m\u001b[39m'\u001b[39m,\u001b[39m'\u001b[39m\u001b[39mPol_type\u001b[39m\u001b[39m'\u001b[39m,\u001b[39m'\u001b[39m\u001b[39mGender\u001b[39m\u001b[39m'\u001b[39m,\u001b[39m'\u001b[39m\u001b[39mMarital\u001b[39m\u001b[39m'\u001b[39m]] \u001b[39m=\u001b[39m df[[\u001b[39m'\u001b[39;49m\u001b[39mLOB\u001b[39;49m\u001b[39m'\u001b[39;49m,\u001b[39m'\u001b[39;49m\u001b[39mPol_type\u001b[39;49m\u001b[39m'\u001b[39;49m,\u001b[39m'\u001b[39;49m\u001b[39mGender\u001b[39;49m\u001b[39m'\u001b[39;49m,\u001b[39m'\u001b[39;49m\u001b[39mMarital\u001b[39;49m\u001b[39m'\u001b[39;49m]]\u001b[39m.\u001b[39mapplymap(\u001b[39mstr\u001b[39m\u001b[39m.\u001b[39mstrip)\u001b[39m.\u001b[39mapplymap(\u001b[39mstr\u001b[39m\u001b[39m.\u001b[39mupper)\n",
      "File \u001b[1;32m~\\AppData\\Local\\Packages\\PythonSoftwareFoundation.Python.3.10_qbz5n2kfra8p0\\LocalCache\\local-packages\\Python310\\site-packages\\pandas\\core\\frame.py:3811\u001b[0m, in \u001b[0;36mDataFrame.__getitem__\u001b[1;34m(self, key)\u001b[0m\n\u001b[0;32m   3809\u001b[0m     \u001b[39mif\u001b[39;00m is_iterator(key):\n\u001b[0;32m   3810\u001b[0m         key \u001b[39m=\u001b[39m \u001b[39mlist\u001b[39m(key)\n\u001b[1;32m-> 3811\u001b[0m     indexer \u001b[39m=\u001b[39m \u001b[39mself\u001b[39;49m\u001b[39m.\u001b[39;49mcolumns\u001b[39m.\u001b[39;49m_get_indexer_strict(key, \u001b[39m\"\u001b[39;49m\u001b[39mcolumns\u001b[39;49m\u001b[39m\"\u001b[39;49m)[\u001b[39m1\u001b[39m]\n\u001b[0;32m   3813\u001b[0m \u001b[39m# take() does not accept boolean indexers\u001b[39;00m\n\u001b[0;32m   3814\u001b[0m \u001b[39mif\u001b[39;00m \u001b[39mgetattr\u001b[39m(indexer, \u001b[39m\"\u001b[39m\u001b[39mdtype\u001b[39m\u001b[39m\"\u001b[39m, \u001b[39mNone\u001b[39;00m) \u001b[39m==\u001b[39m \u001b[39mbool\u001b[39m:\n",
      "File \u001b[1;32m~\\AppData\\Local\\Packages\\PythonSoftwareFoundation.Python.3.10_qbz5n2kfra8p0\\LocalCache\\local-packages\\Python310\\site-packages\\pandas\\core\\indexes\\base.py:6108\u001b[0m, in \u001b[0;36mIndex._get_indexer_strict\u001b[1;34m(self, key, axis_name)\u001b[0m\n\u001b[0;32m   6105\u001b[0m \u001b[39melse\u001b[39;00m:\n\u001b[0;32m   6106\u001b[0m     keyarr, indexer, new_indexer \u001b[39m=\u001b[39m \u001b[39mself\u001b[39m\u001b[39m.\u001b[39m_reindex_non_unique(keyarr)\n\u001b[1;32m-> 6108\u001b[0m \u001b[39mself\u001b[39;49m\u001b[39m.\u001b[39;49m_raise_if_missing(keyarr, indexer, axis_name)\n\u001b[0;32m   6110\u001b[0m keyarr \u001b[39m=\u001b[39m \u001b[39mself\u001b[39m\u001b[39m.\u001b[39mtake(indexer)\n\u001b[0;32m   6111\u001b[0m \u001b[39mif\u001b[39;00m \u001b[39misinstance\u001b[39m(key, Index):\n\u001b[0;32m   6112\u001b[0m     \u001b[39m# GH 42790 - Preserve name from an Index\u001b[39;00m\n",
      "File \u001b[1;32m~\\AppData\\Local\\Packages\\PythonSoftwareFoundation.Python.3.10_qbz5n2kfra8p0\\LocalCache\\local-packages\\Python310\\site-packages\\pandas\\core\\indexes\\base.py:6168\u001b[0m, in \u001b[0;36mIndex._raise_if_missing\u001b[1;34m(self, key, indexer, axis_name)\u001b[0m\n\u001b[0;32m   6166\u001b[0m     \u001b[39mif\u001b[39;00m use_interval_msg:\n\u001b[0;32m   6167\u001b[0m         key \u001b[39m=\u001b[39m \u001b[39mlist\u001b[39m(key)\n\u001b[1;32m-> 6168\u001b[0m     \u001b[39mraise\u001b[39;00m \u001b[39mKeyError\u001b[39;00m(\u001b[39mf\u001b[39m\u001b[39m\"\u001b[39m\u001b[39mNone of [\u001b[39m\u001b[39m{\u001b[39;00mkey\u001b[39m}\u001b[39;00m\u001b[39m] are in the [\u001b[39m\u001b[39m{\u001b[39;00maxis_name\u001b[39m}\u001b[39;00m\u001b[39m]\u001b[39m\u001b[39m\"\u001b[39m)\n\u001b[0;32m   6170\u001b[0m not_found \u001b[39m=\u001b[39m \u001b[39mlist\u001b[39m(ensure_index(key)[missing_mask\u001b[39m.\u001b[39mnonzero()[\u001b[39m0\u001b[39m]]\u001b[39m.\u001b[39munique())\n\u001b[0;32m   6171\u001b[0m \u001b[39mraise\u001b[39;00m \u001b[39mKeyError\u001b[39;00m(\u001b[39mf\u001b[39m\u001b[39m\"\u001b[39m\u001b[39m{\u001b[39;00mnot_found\u001b[39m}\u001b[39;00m\u001b[39m not in index\u001b[39m\u001b[39m\"\u001b[39m)\n",
      "\u001b[1;31mKeyError\u001b[0m: \"None of [Index(['LOB', 'Pol_type', 'Gender', 'Marital'], dtype='object')] are in the [columns]\""
     ]
    }
   ],
   "source": [
    "df[['LOB','Pol_type','Gender','Marital']] = df[['LOB','Pol_type','Gender','Marital']].applymap(str.strip).applymap(str.upper)"
   ]
  },
  {
   "cell_type": "code",
   "execution_count": 21,
   "id": "b3041fb9",
   "metadata": {},
   "outputs": [
    {
     "data": {
      "text/html": [
       "<div>\n",
       "<style scoped>\n",
       "    .dataframe tbody tr th:only-of-type {\n",
       "        vertical-align: middle;\n",
       "    }\n",
       "\n",
       "    .dataframe tbody tr th {\n",
       "        vertical-align: top;\n",
       "    }\n",
       "\n",
       "    .dataframe thead th {\n",
       "        text-align: right;\n",
       "    }\n",
       "</style>\n",
       "<table border=\"1\" class=\"dataframe\">\n",
       "  <thead>\n",
       "    <tr style=\"text-align: right;\">\n",
       "      <th></th>\n",
       "      <th>customerID</th>\n",
       "      <th>Dependents</th>\n",
       "      <th>MultipleLines</th>\n",
       "      <th>OnlineSecurity</th>\n",
       "      <th>OnlineBackup</th>\n",
       "      <th>DeviceProtection</th>\n",
       "      <th>TechSupport</th>\n",
       "      <th>StreamingTV</th>\n",
       "      <th>StreamingMovies</th>\n",
       "      <th>PaperlessBilling</th>\n",
       "      <th>gender</th>\n",
       "      <th>InternetService</th>\n",
       "      <th>Contract</th>\n",
       "      <th>PaymentMethod</th>\n",
       "      <th>SeniorCitizen</th>\n",
       "      <th>tenure</th>\n",
       "      <th>MonthlyCharges</th>\n",
       "      <th>TotalCharges</th>\n",
       "      <th>Churn</th>\n",
       "    </tr>\n",
       "  </thead>\n",
       "  <tbody>\n",
       "    <tr>\n",
       "      <th>0</th>\n",
       "      <td>7590-VHVEG</td>\n",
       "      <td>No</td>\n",
       "      <td>No phone service</td>\n",
       "      <td>No</td>\n",
       "      <td>Yes</td>\n",
       "      <td>No</td>\n",
       "      <td>No</td>\n",
       "      <td>No</td>\n",
       "      <td>No</td>\n",
       "      <td>Yes</td>\n",
       "      <td>Female</td>\n",
       "      <td>DSL</td>\n",
       "      <td>Month-to-month</td>\n",
       "      <td>Electronic check</td>\n",
       "      <td>0</td>\n",
       "      <td>1</td>\n",
       "      <td>29.85</td>\n",
       "      <td>29.85</td>\n",
       "      <td>No</td>\n",
       "    </tr>\n",
       "    <tr>\n",
       "      <th>1</th>\n",
       "      <td>5575-GNVDE</td>\n",
       "      <td>No</td>\n",
       "      <td>No</td>\n",
       "      <td>Yes</td>\n",
       "      <td>No</td>\n",
       "      <td>Yes</td>\n",
       "      <td>No</td>\n",
       "      <td>No</td>\n",
       "      <td>No</td>\n",
       "      <td>No</td>\n",
       "      <td>Male</td>\n",
       "      <td>DSL</td>\n",
       "      <td>One year</td>\n",
       "      <td>Mailed check</td>\n",
       "      <td>0</td>\n",
       "      <td>34</td>\n",
       "      <td>56.95</td>\n",
       "      <td>1889.50</td>\n",
       "      <td>No</td>\n",
       "    </tr>\n",
       "    <tr>\n",
       "      <th>2</th>\n",
       "      <td>3668-QPYBK</td>\n",
       "      <td>No</td>\n",
       "      <td>No</td>\n",
       "      <td>Yes</td>\n",
       "      <td>Yes</td>\n",
       "      <td>No</td>\n",
       "      <td>No</td>\n",
       "      <td>No</td>\n",
       "      <td>No</td>\n",
       "      <td>Yes</td>\n",
       "      <td>Male</td>\n",
       "      <td>DSL</td>\n",
       "      <td>Month-to-month</td>\n",
       "      <td>Mailed check</td>\n",
       "      <td>0</td>\n",
       "      <td>2</td>\n",
       "      <td>53.85</td>\n",
       "      <td>108.15</td>\n",
       "      <td>Yes</td>\n",
       "    </tr>\n",
       "  </tbody>\n",
       "</table>\n",
       "</div>"
      ],
      "text/plain": [
       "   customerID Dependents     MultipleLines OnlineSecurity OnlineBackup  \\\n",
       "0  7590-VHVEG         No  No phone service             No          Yes   \n",
       "1  5575-GNVDE         No                No            Yes           No   \n",
       "2  3668-QPYBK         No                No            Yes          Yes   \n",
       "\n",
       "  DeviceProtection TechSupport StreamingTV StreamingMovies PaperlessBilling  \\\n",
       "0               No          No          No              No              Yes   \n",
       "1              Yes          No          No              No               No   \n",
       "2               No          No          No              No              Yes   \n",
       "\n",
       "   gender InternetService        Contract     PaymentMethod  SeniorCitizen  \\\n",
       "0  Female             DSL  Month-to-month  Electronic check              0   \n",
       "1    Male             DSL        One year      Mailed check              0   \n",
       "2    Male             DSL  Month-to-month      Mailed check              0   \n",
       "\n",
       "   tenure  MonthlyCharges  TotalCharges Churn  \n",
       "0       1           29.85         29.85    No  \n",
       "1      34           56.95       1889.50    No  \n",
       "2       2           53.85        108.15   Yes  "
      ]
     },
     "execution_count": 21,
     "metadata": {},
     "output_type": "execute_result"
    }
   ],
   "source": [
    "df.head(3)"
   ]
  },
  {
   "cell_type": "markdown",
   "id": "3cf21f3f-d34a-4a4c-86b0-a29efa6b2485",
   "metadata": {
    "tags": []
   },
   "source": [
    "#### Check Possible Range"
   ]
  },
  {
   "cell_type": "markdown",
   "id": "12b240d8-900b-4520-9409-e63bb8839308",
   "metadata": {},
   "source": [
    "By checking the possible range for categorical variables, we can identify any unexpected or erroneous values. This helps ensure the data's integrity and validity. It allows us to detect outliers, misspellings, or other inconsistencies in the categorical variable values."
   ]
  },
  {
   "cell_type": "code",
   "execution_count": 22,
   "id": "313bf7da-a640-4565-8957-a972473ea86a",
   "metadata": {},
   "outputs": [],
   "source": [
    "def cat_checker(Var):\n",
    "    unique_value = pd.Series(df[Var].unique()).sort_values().values\n",
    "    return unique_value"
   ]
  },
  {
   "cell_type": "code",
   "execution_count": 23,
   "id": "56de63b7-dc01-42c5-89ac-ee0d7c740b34",
   "metadata": {},
   "outputs": [
    {
     "name": "stdout",
     "output_type": "stream",
     "text": [
      "Dependents: ['No' 'Yes']\n",
      "MultipleLines: ['No' 'No phone service' 'Yes']\n",
      "OnlineSecurity: ['No' 'No internet service' 'Yes']\n",
      "OnlineBackup: ['No' 'No internet service' 'Yes']\n",
      "DeviceProtection: ['No' 'No internet service' 'Yes']\n",
      "TechSupport: ['No' 'No internet service' 'Yes']\n",
      "StreamingTV: ['No' 'No internet service' 'Yes']\n",
      "StreamingMovies: ['No' 'No internet service' 'Yes']\n",
      "PaperlessBilling: ['No' 'Yes']\n",
      "gender: ['Female' 'Male']\n",
      "InternetService: ['DSL' 'Fiber optic' 'No']\n",
      "Contract: ['Month-to-month' 'One year' 'Two year']\n",
      "PaymentMethod: ['Bank transfer (automatic)' 'Credit card (automatic)' 'Electronic check'\n",
      " 'Mailed check']\n"
     ]
    }
   ],
   "source": [
    "cat_var = ['Dependents', 'MultipleLines', 'OnlineSecurity', 'OnlineBackup', 'DeviceProtection', \n",
    "           'TechSupport', 'StreamingTV', 'StreamingMovies', 'PaperlessBilling', 'gender',\n",
    "           'InternetService', 'Contract', 'PaymentMethod']\n",
    "\n",
    "for i in range(len(cat_var)):\n",
    "    print('{}: {}'.format(cat_var[i], cat_checker(cat_var[i])))"
   ]
  },
  {
   "cell_type": "markdown",
   "id": "468a82ad-db2c-4b23-82d3-57bcda9d0993",
   "metadata": {},
   "source": [
    "About `OnlineSecurity`, `OnlineBackup`, `DeviceProtection`,  `TechSupport`, `StreamingTV`, `StreamingMovies`, No phone service means No."
   ]
  },
  {
   "cell_type": "code",
   "execution_count": 24,
   "id": "391e859e-6351-4cc7-a964-1767c21d7da4",
   "metadata": {},
   "outputs": [],
   "source": [
    "change_lable_list = ['MultipleLines', 'OnlineSecurity', 'OnlineBackup', \n",
    "                     'DeviceProtection', 'TechSupport', 'StreamingTV', 'StreamingMovies',]\n",
    "\n",
    "for i in range(len(change_lable_list)):\n",
    "    df[change_lable_list[i]] = df[change_lable_list[i]].replace('No internet service', 'No')"
   ]
  },
  {
   "cell_type": "markdown",
   "id": "e50b4282-c0c4-40c5-897f-4ce8144157c2",
   "metadata": {},
   "source": [
    "Also, in `MultipleLines`, No phone service means No."
   ]
  },
  {
   "cell_type": "code",
   "execution_count": 25,
   "id": "fedc566d-016d-47da-b52f-99f306403e01",
   "metadata": {},
   "outputs": [],
   "source": [
    "df['MultipleLines'] = df['MultipleLines'].replace('No phone service', 'No')"
   ]
  },
  {
   "cell_type": "code",
   "execution_count": 26,
   "id": "85f7d0b1-5deb-461f-a6d6-03d00ce7a2a0",
   "metadata": {},
   "outputs": [
    {
     "name": "stdout",
     "output_type": "stream",
     "text": [
      "Dependents: ['No' 'Yes']\n",
      "MultipleLines: ['No' 'Yes']\n",
      "OnlineSecurity: ['No' 'Yes']\n",
      "OnlineBackup: ['No' 'Yes']\n",
      "DeviceProtection: ['No' 'Yes']\n",
      "TechSupport: ['No' 'Yes']\n",
      "StreamingTV: ['No' 'Yes']\n",
      "StreamingMovies: ['No' 'Yes']\n",
      "PaperlessBilling: ['No' 'Yes']\n",
      "gender: ['Female' 'Male']\n",
      "InternetService: ['DSL' 'Fiber optic' 'No']\n",
      "Contract: ['Month-to-month' 'One year' 'Two year']\n",
      "PaymentMethod: ['Bank transfer (automatic)' 'Credit card (automatic)' 'Electronic check'\n",
      " 'Mailed check']\n"
     ]
    }
   ],
   "source": [
    "for i in range(len(cat_var)):\n",
    "    print('{}: {}'.format(cat_var[i], cat_checker(cat_var[i])))"
   ]
  },
  {
   "cell_type": "markdown",
   "id": "dbac9ba6-a966-43ca-8206-d9db9dc9af61",
   "metadata": {
    "jp-MarkdownHeadingCollapsed": true,
    "tags": []
   },
   "source": [
    "## **Export the File**"
   ]
  },
  {
   "cell_type": "markdown",
   "id": "8109b119-5c35-4db2-bc83-6b53695a0430",
   "metadata": {},
   "source": [
    "First, we remove the Sanity column that we made it before, and then export the cleaned data."
   ]
  },
  {
   "cell_type": "code",
   "execution_count": 32,
   "id": "f6f0bdae-9776-42ed-9c9b-90e93d67abc8",
   "metadata": {},
   "outputs": [],
   "source": [
    "df = df.drop(['Sanity1'], axis=1)\n",
    "df.to_csv('dataset/Cleaned_df.csv', index=False)"
   ]
  }
 ],
 "metadata": {
  "kernelspec": {
   "display_name": "Python 3 (ipykernel)",
   "language": "python",
   "name": "python3"
  },
  "language_info": {
   "codemirror_mode": {
    "name": "ipython",
    "version": 3
   },
   "file_extension": ".py",
   "mimetype": "text/x-python",
   "name": "python",
   "nbconvert_exporter": "python",
   "pygments_lexer": "ipython3",
   "version": "3.10.11"
  }
 },
 "nbformat": 4,
 "nbformat_minor": 5
}
