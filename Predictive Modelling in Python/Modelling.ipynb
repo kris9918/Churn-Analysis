{
 "cells": [
  {
   "cell_type": "markdown",
   "metadata": {
    "cell_id": "1e78a237-948f-480d-ba96-3503917949ad",
    "tags": []
   },
   "source": [
    "## **Setup Environment & Run Packages**"
   ]
  },
  {
   "cell_type": "code",
   "execution_count": 1,
   "metadata": {
    "cell_id": "464a9356-824f-4c4d-9945-224698b09877",
    "output_cleared": false
   },
   "outputs": [],
   "source": [
    "import warnings\n",
    "warnings.filterwarnings(\"ignore\")\n",
    "\n",
    "import numpy as np\n",
    "import pandas as pd\n",
    "\n",
    "#split data\n",
    "from sklearn.model_selection import train_test_split\n",
    "\n",
    "#create pipeline\n",
    "from sklearn.pipeline import Pipeline\n",
    "\n",
    "#ML\n",
    "from pycaret.classification import *"
   ]
  },
  {
   "cell_type": "markdown",
   "metadata": {
    "cell_id": "5ae1c017-271e-410e-abd5-0be3b8727766",
    "tags": []
   },
   "source": [
    "## **Load Data**"
   ]
  },
  {
   "cell_type": "code",
   "execution_count": 2,
   "metadata": {
    "cell_id": "cec0aaf1-7373-484e-bcdd-e39fa067e8ad",
    "output_cleared": false,
    "tags": []
   },
   "outputs": [],
   "source": [
    "df = pd.read_csv('../dataset/CheckPoints/Cleaned_df.csv')"
   ]
  },
  {
   "cell_type": "markdown",
   "metadata": {
    "cell_id": "5ae1c017-271e-410e-abd5-0be3b8727766",
    "tags": []
   },
   "source": [
    "## **Split Data**"
   ]
  },
  {
   "cell_type": "markdown",
   "metadata": {},
   "source": [
    "First, we must make sure about the balance of the data."
   ]
  },
  {
   "cell_type": "code",
   "execution_count": 3,
   "metadata": {},
   "outputs": [
    {
     "data": {
      "text/plain": [
       "No     5163\n",
       "Yes    1869\n",
       "Name: Churn, dtype: int64"
      ]
     },
     "execution_count": 3,
     "metadata": {},
     "output_type": "execute_result"
    }
   ],
   "source": [
    "df['Churn'].value_counts()"
   ]
  },
  {
   "cell_type": "markdown",
   "metadata": {},
   "source": [
    "As we can see, we have an imbalanced dataset. So, we should consider it during spliting. We split dataset to train and evaluate. We use train for building and testing the model and then we use evaluat set to behave as unseen data to run final model."
   ]
  },
  {
   "cell_type": "code",
   "execution_count": 4,
   "metadata": {},
   "outputs": [],
   "source": [
    "train_set, evaluate_set = train_test_split(df, test_size = 0.1, stratify = df['Churn'], random_state = 42)"
   ]
  },
  {
   "cell_type": "code",
   "execution_count": 5,
   "metadata": {},
   "outputs": [
    {
     "name": "stdout",
     "output_type": "stream",
     "text": [
      "train ~ No: 0.734197218710493\n",
      "train ~ Yes: 0.26580278128950696\n",
      "evaluate ~ No: 0.734375\n",
      "evaluate ~ Yes: 0.265625\n"
     ]
    }
   ],
   "source": [
    "print('train ~ No:' , train_set['Churn'].value_counts()[0]/train_set.shape[0])\n",
    "print('train ~ Yes:' , train_set['Churn'].value_counts()[1]/train_set.shape[0])\n",
    "print('evaluate ~ No:' , evaluate_set['Churn'].value_counts()[0]/evaluate_set.shape[0])\n",
    "print('evaluate ~ Yes:' , evaluate_set['Churn'].value_counts()[1]/evaluate_set.shape[0])"
   ]
  },
  {
   "cell_type": "markdown",
   "metadata": {},
   "source": [
    "From now on, we work on train_set data."
   ]
  },
  {
   "cell_type": "markdown",
   "metadata": {
    "cell_id": "8546f71b-652c-4909-b31b-b11cd7cc52c1",
    "tags": []
   },
   "source": [
    "## **Build Model**"
   ]
  },
  {
   "cell_type": "markdown",
   "metadata": {},
   "source": [
    "To begin with, we should declare all features based on their type."
   ]
  },
  {
   "cell_type": "code",
   "execution_count": 6,
   "metadata": {},
   "outputs": [],
   "source": [
    "num_f = ['tenure', 'MonthlyCharges', 'TotalCharges',]\n",
    "\n",
    "cat_f = ['Dependents', 'MultipleLines', 'OnlineSecurity',\n",
    "       'OnlineBackup', 'DeviceProtection', 'TechSupport', 'StreamingTV',\n",
    "       'StreamingMovies', 'PaperlessBilling', 'gender', 'InternetService',\n",
    "       'Contract', 'PaymentMethod', 'SeniorCitizen']\n",
    "\n",
    "ign_f = ['customerID']"
   ]
  },
  {
   "cell_type": "markdown",
   "metadata": {},
   "source": [
    "> ### **Seupt Model Experiment**"
   ]
  },
  {
   "cell_type": "code",
   "execution_count": 27,
   "metadata": {},
   "outputs": [
    {
     "data": {
      "text/html": [
       "<style type=\"text/css\">\n",
       "#T_07509_row12_col1, #T_07509_row18_col1, #T_07509_row20_col1, #T_07509_row22_col1, #T_07509_row24_col1, #T_07509_row26_col1, #T_07509_row28_col1, #T_07509_row31_col1 {\n",
       "  background-color: lightgreen;\n",
       "}\n",
       "</style>\n",
       "<table id=\"T_07509\">\n",
       "  <thead>\n",
       "    <tr>\n",
       "      <th class=\"blank level0\" >&nbsp;</th>\n",
       "      <th id=\"T_07509_level0_col0\" class=\"col_heading level0 col0\" >Description</th>\n",
       "      <th id=\"T_07509_level0_col1\" class=\"col_heading level0 col1\" >Value</th>\n",
       "    </tr>\n",
       "  </thead>\n",
       "  <tbody>\n",
       "    <tr>\n",
       "      <th id=\"T_07509_level0_row0\" class=\"row_heading level0 row0\" >0</th>\n",
       "      <td id=\"T_07509_row0_col0\" class=\"data row0 col0\" >Session id</td>\n",
       "      <td id=\"T_07509_row0_col1\" class=\"data row0 col1\" >42</td>\n",
       "    </tr>\n",
       "    <tr>\n",
       "      <th id=\"T_07509_level0_row1\" class=\"row_heading level0 row1\" >1</th>\n",
       "      <td id=\"T_07509_row1_col0\" class=\"data row1 col0\" >Target</td>\n",
       "      <td id=\"T_07509_row1_col1\" class=\"data row1 col1\" >Churn</td>\n",
       "    </tr>\n",
       "    <tr>\n",
       "      <th id=\"T_07509_level0_row2\" class=\"row_heading level0 row2\" >2</th>\n",
       "      <td id=\"T_07509_row2_col0\" class=\"data row2 col0\" >Target type</td>\n",
       "      <td id=\"T_07509_row2_col1\" class=\"data row2 col1\" >Binary</td>\n",
       "    </tr>\n",
       "    <tr>\n",
       "      <th id=\"T_07509_level0_row3\" class=\"row_heading level0 row3\" >3</th>\n",
       "      <td id=\"T_07509_row3_col0\" class=\"data row3 col0\" >Target mapping</td>\n",
       "      <td id=\"T_07509_row3_col1\" class=\"data row3 col1\" >No: 0, Yes: 1</td>\n",
       "    </tr>\n",
       "    <tr>\n",
       "      <th id=\"T_07509_level0_row4\" class=\"row_heading level0 row4\" >4</th>\n",
       "      <td id=\"T_07509_row4_col0\" class=\"data row4 col0\" >Original data shape</td>\n",
       "      <td id=\"T_07509_row4_col1\" class=\"data row4 col1\" >(6328, 19)</td>\n",
       "    </tr>\n",
       "    <tr>\n",
       "      <th id=\"T_07509_level0_row5\" class=\"row_heading level0 row5\" >5</th>\n",
       "      <td id=\"T_07509_row5_col0\" class=\"data row5 col0\" >Transformed data shape</td>\n",
       "      <td id=\"T_07509_row5_col1\" class=\"data row5 col1\" >(8240, 4)</td>\n",
       "    </tr>\n",
       "    <tr>\n",
       "      <th id=\"T_07509_level0_row6\" class=\"row_heading level0 row6\" >6</th>\n",
       "      <td id=\"T_07509_row6_col0\" class=\"data row6 col0\" >Transformed train set shape</td>\n",
       "      <td id=\"T_07509_row6_col1\" class=\"data row6 col1\" >(6974, 4)</td>\n",
       "    </tr>\n",
       "    <tr>\n",
       "      <th id=\"T_07509_level0_row7\" class=\"row_heading level0 row7\" >7</th>\n",
       "      <td id=\"T_07509_row7_col0\" class=\"data row7 col0\" >Transformed test set shape</td>\n",
       "      <td id=\"T_07509_row7_col1\" class=\"data row7 col1\" >(1266, 4)</td>\n",
       "    </tr>\n",
       "    <tr>\n",
       "      <th id=\"T_07509_level0_row8\" class=\"row_heading level0 row8\" >8</th>\n",
       "      <td id=\"T_07509_row8_col0\" class=\"data row8 col0\" >Ignore features</td>\n",
       "      <td id=\"T_07509_row8_col1\" class=\"data row8 col1\" >1</td>\n",
       "    </tr>\n",
       "    <tr>\n",
       "      <th id=\"T_07509_level0_row9\" class=\"row_heading level0 row9\" >9</th>\n",
       "      <td id=\"T_07509_row9_col0\" class=\"data row9 col0\" >Ordinal features</td>\n",
       "      <td id=\"T_07509_row9_col1\" class=\"data row9 col1\" >11</td>\n",
       "    </tr>\n",
       "    <tr>\n",
       "      <th id=\"T_07509_level0_row10\" class=\"row_heading level0 row10\" >10</th>\n",
       "      <td id=\"T_07509_row10_col0\" class=\"data row10 col0\" >Numeric features</td>\n",
       "      <td id=\"T_07509_row10_col1\" class=\"data row10 col1\" >3</td>\n",
       "    </tr>\n",
       "    <tr>\n",
       "      <th id=\"T_07509_level0_row11\" class=\"row_heading level0 row11\" >11</th>\n",
       "      <td id=\"T_07509_row11_col0\" class=\"data row11 col0\" >Categorical features</td>\n",
       "      <td id=\"T_07509_row11_col1\" class=\"data row11 col1\" >14</td>\n",
       "    </tr>\n",
       "    <tr>\n",
       "      <th id=\"T_07509_level0_row12\" class=\"row_heading level0 row12\" >12</th>\n",
       "      <td id=\"T_07509_row12_col0\" class=\"data row12 col0\" >Preprocess</td>\n",
       "      <td id=\"T_07509_row12_col1\" class=\"data row12 col1\" >True</td>\n",
       "    </tr>\n",
       "    <tr>\n",
       "      <th id=\"T_07509_level0_row13\" class=\"row_heading level0 row13\" >13</th>\n",
       "      <td id=\"T_07509_row13_col0\" class=\"data row13 col0\" >Imputation type</td>\n",
       "      <td id=\"T_07509_row13_col1\" class=\"data row13 col1\" >simple</td>\n",
       "    </tr>\n",
       "    <tr>\n",
       "      <th id=\"T_07509_level0_row14\" class=\"row_heading level0 row14\" >14</th>\n",
       "      <td id=\"T_07509_row14_col0\" class=\"data row14 col0\" >Numeric imputation</td>\n",
       "      <td id=\"T_07509_row14_col1\" class=\"data row14 col1\" >mean</td>\n",
       "    </tr>\n",
       "    <tr>\n",
       "      <th id=\"T_07509_level0_row15\" class=\"row_heading level0 row15\" >15</th>\n",
       "      <td id=\"T_07509_row15_col0\" class=\"data row15 col0\" >Categorical imputation</td>\n",
       "      <td id=\"T_07509_row15_col1\" class=\"data row15 col1\" >mode</td>\n",
       "    </tr>\n",
       "    <tr>\n",
       "      <th id=\"T_07509_level0_row16\" class=\"row_heading level0 row16\" >16</th>\n",
       "      <td id=\"T_07509_row16_col0\" class=\"data row16 col0\" >Maximum one-hot encoding</td>\n",
       "      <td id=\"T_07509_row16_col1\" class=\"data row16 col1\" >25</td>\n",
       "    </tr>\n",
       "    <tr>\n",
       "      <th id=\"T_07509_level0_row17\" class=\"row_heading level0 row17\" >17</th>\n",
       "      <td id=\"T_07509_row17_col0\" class=\"data row17 col0\" >Encoding method</td>\n",
       "      <td id=\"T_07509_row17_col1\" class=\"data row17 col1\" >None</td>\n",
       "    </tr>\n",
       "    <tr>\n",
       "      <th id=\"T_07509_level0_row18\" class=\"row_heading level0 row18\" >18</th>\n",
       "      <td id=\"T_07509_row18_col0\" class=\"data row18 col0\" >Remove multicollinearity</td>\n",
       "      <td id=\"T_07509_row18_col1\" class=\"data row18 col1\" >True</td>\n",
       "    </tr>\n",
       "    <tr>\n",
       "      <th id=\"T_07509_level0_row19\" class=\"row_heading level0 row19\" >19</th>\n",
       "      <td id=\"T_07509_row19_col0\" class=\"data row19 col0\" >Multicollinearity threshold</td>\n",
       "      <td id=\"T_07509_row19_col1\" class=\"data row19 col1\" >0.900000</td>\n",
       "    </tr>\n",
       "    <tr>\n",
       "      <th id=\"T_07509_level0_row20\" class=\"row_heading level0 row20\" >20</th>\n",
       "      <td id=\"T_07509_row20_col0\" class=\"data row20 col0\" >Remove outliers</td>\n",
       "      <td id=\"T_07509_row20_col1\" class=\"data row20 col1\" >True</td>\n",
       "    </tr>\n",
       "    <tr>\n",
       "      <th id=\"T_07509_level0_row21\" class=\"row_heading level0 row21\" >21</th>\n",
       "      <td id=\"T_07509_row21_col0\" class=\"data row21 col0\" >Outliers threshold</td>\n",
       "      <td id=\"T_07509_row21_col1\" class=\"data row21 col1\" >0.050000</td>\n",
       "    </tr>\n",
       "    <tr>\n",
       "      <th id=\"T_07509_level0_row22\" class=\"row_heading level0 row22\" >22</th>\n",
       "      <td id=\"T_07509_row22_col0\" class=\"data row22 col0\" >Fix imbalance</td>\n",
       "      <td id=\"T_07509_row22_col1\" class=\"data row22 col1\" >True</td>\n",
       "    </tr>\n",
       "    <tr>\n",
       "      <th id=\"T_07509_level0_row23\" class=\"row_heading level0 row23\" >23</th>\n",
       "      <td id=\"T_07509_row23_col0\" class=\"data row23 col0\" >Fix imbalance method</td>\n",
       "      <td id=\"T_07509_row23_col1\" class=\"data row23 col1\" >SMOTE</td>\n",
       "    </tr>\n",
       "    <tr>\n",
       "      <th id=\"T_07509_level0_row24\" class=\"row_heading level0 row24\" >24</th>\n",
       "      <td id=\"T_07509_row24_col0\" class=\"data row24 col0\" >Transformation</td>\n",
       "      <td id=\"T_07509_row24_col1\" class=\"data row24 col1\" >True</td>\n",
       "    </tr>\n",
       "    <tr>\n",
       "      <th id=\"T_07509_level0_row25\" class=\"row_heading level0 row25\" >25</th>\n",
       "      <td id=\"T_07509_row25_col0\" class=\"data row25 col0\" >Transformation method</td>\n",
       "      <td id=\"T_07509_row25_col1\" class=\"data row25 col1\" >yeo-johnson</td>\n",
       "    </tr>\n",
       "    <tr>\n",
       "      <th id=\"T_07509_level0_row26\" class=\"row_heading level0 row26\" >26</th>\n",
       "      <td id=\"T_07509_row26_col0\" class=\"data row26 col0\" >Normalize</td>\n",
       "      <td id=\"T_07509_row26_col1\" class=\"data row26 col1\" >True</td>\n",
       "    </tr>\n",
       "    <tr>\n",
       "      <th id=\"T_07509_level0_row27\" class=\"row_heading level0 row27\" >27</th>\n",
       "      <td id=\"T_07509_row27_col0\" class=\"data row27 col0\" >Normalize method</td>\n",
       "      <td id=\"T_07509_row27_col1\" class=\"data row27 col1\" >zscore</td>\n",
       "    </tr>\n",
       "    <tr>\n",
       "      <th id=\"T_07509_level0_row28\" class=\"row_heading level0 row28\" >28</th>\n",
       "      <td id=\"T_07509_row28_col0\" class=\"data row28 col0\" >PCA</td>\n",
       "      <td id=\"T_07509_row28_col1\" class=\"data row28 col1\" >True</td>\n",
       "    </tr>\n",
       "    <tr>\n",
       "      <th id=\"T_07509_level0_row29\" class=\"row_heading level0 row29\" >29</th>\n",
       "      <td id=\"T_07509_row29_col0\" class=\"data row29 col0\" >PCA method</td>\n",
       "      <td id=\"T_07509_row29_col1\" class=\"data row29 col1\" >linear</td>\n",
       "    </tr>\n",
       "    <tr>\n",
       "      <th id=\"T_07509_level0_row30\" class=\"row_heading level0 row30\" >30</th>\n",
       "      <td id=\"T_07509_row30_col0\" class=\"data row30 col0\" >PCA components</td>\n",
       "      <td id=\"T_07509_row30_col1\" class=\"data row30 col1\" >None</td>\n",
       "    </tr>\n",
       "    <tr>\n",
       "      <th id=\"T_07509_level0_row31\" class=\"row_heading level0 row31\" >31</th>\n",
       "      <td id=\"T_07509_row31_col0\" class=\"data row31 col0\" >Feature selection</td>\n",
       "      <td id=\"T_07509_row31_col1\" class=\"data row31 col1\" >True</td>\n",
       "    </tr>\n",
       "    <tr>\n",
       "      <th id=\"T_07509_level0_row32\" class=\"row_heading level0 row32\" >32</th>\n",
       "      <td id=\"T_07509_row32_col0\" class=\"data row32 col0\" >Feature selection method</td>\n",
       "      <td id=\"T_07509_row32_col1\" class=\"data row32 col1\" >classic</td>\n",
       "    </tr>\n",
       "    <tr>\n",
       "      <th id=\"T_07509_level0_row33\" class=\"row_heading level0 row33\" >33</th>\n",
       "      <td id=\"T_07509_row33_col0\" class=\"data row33 col0\" >Feature selection estimator</td>\n",
       "      <td id=\"T_07509_row33_col1\" class=\"data row33 col1\" >lightgbm</td>\n",
       "    </tr>\n",
       "    <tr>\n",
       "      <th id=\"T_07509_level0_row34\" class=\"row_heading level0 row34\" >34</th>\n",
       "      <td id=\"T_07509_row34_col0\" class=\"data row34 col0\" >Number of features selected</td>\n",
       "      <td id=\"T_07509_row34_col1\" class=\"data row34 col1\" >0.200000</td>\n",
       "    </tr>\n",
       "    <tr>\n",
       "      <th id=\"T_07509_level0_row35\" class=\"row_heading level0 row35\" >35</th>\n",
       "      <td id=\"T_07509_row35_col0\" class=\"data row35 col0\" >Fold Generator</td>\n",
       "      <td id=\"T_07509_row35_col1\" class=\"data row35 col1\" >StratifiedKFold</td>\n",
       "    </tr>\n",
       "    <tr>\n",
       "      <th id=\"T_07509_level0_row36\" class=\"row_heading level0 row36\" >36</th>\n",
       "      <td id=\"T_07509_row36_col0\" class=\"data row36 col0\" >Fold Number</td>\n",
       "      <td id=\"T_07509_row36_col1\" class=\"data row36 col1\" >10</td>\n",
       "    </tr>\n",
       "    <tr>\n",
       "      <th id=\"T_07509_level0_row37\" class=\"row_heading level0 row37\" >37</th>\n",
       "      <td id=\"T_07509_row37_col0\" class=\"data row37 col0\" >CPU Jobs</td>\n",
       "      <td id=\"T_07509_row37_col1\" class=\"data row37 col1\" >-1</td>\n",
       "    </tr>\n",
       "    <tr>\n",
       "      <th id=\"T_07509_level0_row38\" class=\"row_heading level0 row38\" >38</th>\n",
       "      <td id=\"T_07509_row38_col0\" class=\"data row38 col0\" >Use GPU</td>\n",
       "      <td id=\"T_07509_row38_col1\" class=\"data row38 col1\" >False</td>\n",
       "    </tr>\n",
       "    <tr>\n",
       "      <th id=\"T_07509_level0_row39\" class=\"row_heading level0 row39\" >39</th>\n",
       "      <td id=\"T_07509_row39_col0\" class=\"data row39 col0\" >Log Experiment</td>\n",
       "      <td id=\"T_07509_row39_col1\" class=\"data row39 col1\" >False</td>\n",
       "    </tr>\n",
       "    <tr>\n",
       "      <th id=\"T_07509_level0_row40\" class=\"row_heading level0 row40\" >40</th>\n",
       "      <td id=\"T_07509_row40_col0\" class=\"data row40 col0\" >Experiment Name</td>\n",
       "      <td id=\"T_07509_row40_col1\" class=\"data row40 col1\" >customer-churn-prediction</td>\n",
       "    </tr>\n",
       "    <tr>\n",
       "      <th id=\"T_07509_level0_row41\" class=\"row_heading level0 row41\" >41</th>\n",
       "      <td id=\"T_07509_row41_col0\" class=\"data row41 col0\" >USI</td>\n",
       "      <td id=\"T_07509_row41_col1\" class=\"data row41 col1\" >ba68</td>\n",
       "    </tr>\n",
       "  </tbody>\n",
       "</table>\n"
      ],
      "text/plain": [
       "<pandas.io.formats.style.Styler at 0x1b55615bd90>"
      ]
     },
     "metadata": {},
     "output_type": "display_data"
    }
   ],
   "source": [
    "exp = setup(\n",
    "    #Model Selection\n",
    "    data = train_set,    \n",
    "    target = 'Churn',   \n",
    "    train_size = 0.8,    \n",
    "    fold = 10,    \n",
    "    session_id = 42,\n",
    "    \n",
    "    #Data Types\n",
    "    numeric_features = num_f,    \n",
    "    categorical_features = cat_f,    \n",
    "    ignore_features = ign_f,\n",
    "    #ordinal_features\n",
    "    \n",
    "    #configuration\n",
    "    bin_numeric_features = ['MonthlyCharges', 'TotalCharges'],\n",
    "    normalize = True,\n",
    "    transformation = True, \n",
    "    #transform_target = True - just regression\n",
    "    feature_selection = True,\n",
    "    remove_outliers = True,\n",
    "    remove_multicollinearity = True,\n",
    "    fix_imbalance = True,\n",
    "    pca = True, \n",
    "    experiment_name = \"customer-churn-prediction\")"
   ]
  },
  {
   "cell_type": "markdown",
   "metadata": {},
   "source": [
    ">### **Build Model**"
   ]
  },
  {
   "cell_type": "markdown",
   "metadata": {},
   "source": [
    "Now we build many models and compare a metric for the bests. The models are sorted by F1 Score due Precision and Recall are importants for the evaluation. The cross-validation is made with 5-folds."
   ]
  },
  {
   "cell_type": "code",
   "execution_count": 28,
   "metadata": {},
   "outputs": [
    {
     "data": {
      "text/html": [],
      "text/plain": [
       "<IPython.core.display.HTML object>"
      ]
     },
     "metadata": {},
     "output_type": "display_data"
    },
    {
     "data": {
      "text/html": [
       "<style type=\"text/css\">\n",
       "#T_5a51e th {\n",
       "  text-align: left;\n",
       "}\n",
       "#T_5a51e_row0_col0, #T_5a51e_row0_col1, #T_5a51e_row0_col2, #T_5a51e_row0_col4, #T_5a51e_row0_col6, #T_5a51e_row1_col0, #T_5a51e_row1_col1, #T_5a51e_row1_col3, #T_5a51e_row1_col4, #T_5a51e_row1_col5, #T_5a51e_row1_col7, #T_5a51e_row2_col0, #T_5a51e_row2_col1, #T_5a51e_row2_col2, #T_5a51e_row2_col3, #T_5a51e_row2_col4, #T_5a51e_row2_col5, #T_5a51e_row2_col6, #T_5a51e_row2_col7, #T_5a51e_row3_col0, #T_5a51e_row3_col1, #T_5a51e_row3_col2, #T_5a51e_row3_col3, #T_5a51e_row3_col4, #T_5a51e_row3_col5, #T_5a51e_row3_col6, #T_5a51e_row3_col7, #T_5a51e_row4_col0, #T_5a51e_row4_col1, #T_5a51e_row4_col2, #T_5a51e_row4_col3, #T_5a51e_row4_col4, #T_5a51e_row4_col5, #T_5a51e_row4_col6, #T_5a51e_row4_col7, #T_5a51e_row5_col0, #T_5a51e_row5_col1, #T_5a51e_row5_col2, #T_5a51e_row5_col3, #T_5a51e_row5_col4, #T_5a51e_row5_col5, #T_5a51e_row5_col6, #T_5a51e_row5_col7, #T_5a51e_row6_col0, #T_5a51e_row6_col1, #T_5a51e_row6_col2, #T_5a51e_row6_col3, #T_5a51e_row6_col4, #T_5a51e_row6_col5, #T_5a51e_row6_col6, #T_5a51e_row6_col7, #T_5a51e_row7_col0, #T_5a51e_row7_col1, #T_5a51e_row7_col2, #T_5a51e_row7_col3, #T_5a51e_row7_col4, #T_5a51e_row7_col5, #T_5a51e_row7_col6, #T_5a51e_row7_col7, #T_5a51e_row8_col0, #T_5a51e_row8_col1, #T_5a51e_row8_col2, #T_5a51e_row8_col3, #T_5a51e_row8_col4, #T_5a51e_row8_col5, #T_5a51e_row8_col6, #T_5a51e_row8_col7, #T_5a51e_row9_col0, #T_5a51e_row9_col1, #T_5a51e_row9_col2, #T_5a51e_row9_col3, #T_5a51e_row9_col4, #T_5a51e_row9_col5, #T_5a51e_row9_col6, #T_5a51e_row9_col7, #T_5a51e_row10_col0, #T_5a51e_row10_col2, #T_5a51e_row10_col3, #T_5a51e_row10_col4, #T_5a51e_row10_col5, #T_5a51e_row10_col6, #T_5a51e_row10_col7, #T_5a51e_row11_col0, #T_5a51e_row11_col1, #T_5a51e_row11_col2, #T_5a51e_row11_col3, #T_5a51e_row11_col5, #T_5a51e_row11_col6, #T_5a51e_row11_col7, #T_5a51e_row12_col0, #T_5a51e_row12_col1, #T_5a51e_row12_col2, #T_5a51e_row12_col3, #T_5a51e_row12_col4, #T_5a51e_row12_col5, #T_5a51e_row12_col6, #T_5a51e_row12_col7, #T_5a51e_row13_col0, #T_5a51e_row13_col1, #T_5a51e_row13_col2, #T_5a51e_row13_col3, #T_5a51e_row13_col4, #T_5a51e_row13_col5, #T_5a51e_row13_col6, #T_5a51e_row13_col7 {\n",
       "  text-align: left;\n",
       "}\n",
       "#T_5a51e_row0_col3, #T_5a51e_row0_col5, #T_5a51e_row0_col7, #T_5a51e_row1_col2, #T_5a51e_row1_col6, #T_5a51e_row10_col1, #T_5a51e_row11_col4 {\n",
       "  text-align: left;\n",
       "  background-color: yellow;\n",
       "}\n",
       "#T_5a51e_row0_col8, #T_5a51e_row1_col8, #T_5a51e_row2_col8, #T_5a51e_row3_col8, #T_5a51e_row5_col8, #T_5a51e_row6_col8, #T_5a51e_row7_col8, #T_5a51e_row8_col8, #T_5a51e_row9_col8, #T_5a51e_row10_col8, #T_5a51e_row11_col8, #T_5a51e_row12_col8, #T_5a51e_row13_col8 {\n",
       "  text-align: left;\n",
       "  background-color: lightgrey;\n",
       "}\n",
       "#T_5a51e_row4_col8 {\n",
       "  text-align: left;\n",
       "  background-color: yellow;\n",
       "  background-color: lightgrey;\n",
       "}\n",
       "</style>\n",
       "<table id=\"T_5a51e\">\n",
       "  <thead>\n",
       "    <tr>\n",
       "      <th class=\"blank level0\" >&nbsp;</th>\n",
       "      <th id=\"T_5a51e_level0_col0\" class=\"col_heading level0 col0\" >Model</th>\n",
       "      <th id=\"T_5a51e_level0_col1\" class=\"col_heading level0 col1\" >Accuracy</th>\n",
       "      <th id=\"T_5a51e_level0_col2\" class=\"col_heading level0 col2\" >AUC</th>\n",
       "      <th id=\"T_5a51e_level0_col3\" class=\"col_heading level0 col3\" >Recall</th>\n",
       "      <th id=\"T_5a51e_level0_col4\" class=\"col_heading level0 col4\" >Prec.</th>\n",
       "      <th id=\"T_5a51e_level0_col5\" class=\"col_heading level0 col5\" >F1</th>\n",
       "      <th id=\"T_5a51e_level0_col6\" class=\"col_heading level0 col6\" >Kappa</th>\n",
       "      <th id=\"T_5a51e_level0_col7\" class=\"col_heading level0 col7\" >MCC</th>\n",
       "      <th id=\"T_5a51e_level0_col8\" class=\"col_heading level0 col8\" >TT (Sec)</th>\n",
       "    </tr>\n",
       "  </thead>\n",
       "  <tbody>\n",
       "    <tr>\n",
       "      <th id=\"T_5a51e_level0_row0\" class=\"row_heading level0 row0\" >ridge</th>\n",
       "      <td id=\"T_5a51e_row0_col0\" class=\"data row0 col0\" >Ridge Classifier</td>\n",
       "      <td id=\"T_5a51e_row0_col1\" class=\"data row0 col1\" >0.7533</td>\n",
       "      <td id=\"T_5a51e_row0_col2\" class=\"data row0 col2\" >0.0000</td>\n",
       "      <td id=\"T_5a51e_row0_col3\" class=\"data row0 col3\" >0.8015</td>\n",
       "      <td id=\"T_5a51e_row0_col4\" class=\"data row0 col4\" >0.5235</td>\n",
       "      <td id=\"T_5a51e_row0_col5\" class=\"data row0 col5\" >0.6333</td>\n",
       "      <td id=\"T_5a51e_row0_col6\" class=\"data row0 col6\" >0.4595</td>\n",
       "      <td id=\"T_5a51e_row0_col7\" class=\"data row0 col7\" >0.4832</td>\n",
       "      <td id=\"T_5a51e_row0_col8\" class=\"data row0 col8\" >0.8860</td>\n",
       "    </tr>\n",
       "    <tr>\n",
       "      <th id=\"T_5a51e_level0_row1\" class=\"row_heading level0 row1\" >lr</th>\n",
       "      <td id=\"T_5a51e_row1_col0\" class=\"data row1 col0\" >Logistic Regression</td>\n",
       "      <td id=\"T_5a51e_row1_col1\" class=\"data row1 col1\" >0.7596</td>\n",
       "      <td id=\"T_5a51e_row1_col2\" class=\"data row1 col2\" >0.8416</td>\n",
       "      <td id=\"T_5a51e_row1_col3\" class=\"data row1 col3\" >0.7762</td>\n",
       "      <td id=\"T_5a51e_row1_col4\" class=\"data row1 col4\" >0.5325</td>\n",
       "      <td id=\"T_5a51e_row1_col5\" class=\"data row1 col5\" >0.6316</td>\n",
       "      <td id=\"T_5a51e_row1_col6\" class=\"data row1 col6\" >0.4622</td>\n",
       "      <td id=\"T_5a51e_row1_col7\" class=\"data row1 col7\" >0.4804</td>\n",
       "      <td id=\"T_5a51e_row1_col8\" class=\"data row1 col8\" >0.7920</td>\n",
       "    </tr>\n",
       "    <tr>\n",
       "      <th id=\"T_5a51e_level0_row2\" class=\"row_heading level0 row2\" >lda</th>\n",
       "      <td id=\"T_5a51e_row2_col0\" class=\"data row2 col0\" >Linear Discriminant Analysis</td>\n",
       "      <td id=\"T_5a51e_row2_col1\" class=\"data row2 col1\" >0.7539</td>\n",
       "      <td id=\"T_5a51e_row2_col2\" class=\"data row2 col2\" >0.8406</td>\n",
       "      <td id=\"T_5a51e_row2_col3\" class=\"data row2 col3\" >0.7814</td>\n",
       "      <td id=\"T_5a51e_row2_col4\" class=\"data row2 col4\" >0.5254</td>\n",
       "      <td id=\"T_5a51e_row2_col5\" class=\"data row2 col5\" >0.6279</td>\n",
       "      <td id=\"T_5a51e_row2_col6\" class=\"data row2 col6\" >0.4545</td>\n",
       "      <td id=\"T_5a51e_row2_col7\" class=\"data row2 col7\" >0.4749</td>\n",
       "      <td id=\"T_5a51e_row2_col8\" class=\"data row2 col8\" >0.8040</td>\n",
       "    </tr>\n",
       "    <tr>\n",
       "      <th id=\"T_5a51e_level0_row3\" class=\"row_heading level0 row3\" >ada</th>\n",
       "      <td id=\"T_5a51e_row3_col0\" class=\"data row3 col0\" >Ada Boost Classifier</td>\n",
       "      <td id=\"T_5a51e_row3_col1\" class=\"data row3 col1\" >0.7572</td>\n",
       "      <td id=\"T_5a51e_row3_col2\" class=\"data row3 col2\" >0.8303</td>\n",
       "      <td id=\"T_5a51e_row3_col3\" class=\"data row3 col3\" >0.7643</td>\n",
       "      <td id=\"T_5a51e_row3_col4\" class=\"data row3 col4\" >0.5299</td>\n",
       "      <td id=\"T_5a51e_row3_col5\" class=\"data row3 col5\" >0.6258</td>\n",
       "      <td id=\"T_5a51e_row3_col6\" class=\"data row3 col6\" >0.4547</td>\n",
       "      <td id=\"T_5a51e_row3_col7\" class=\"data row3 col7\" >0.4716</td>\n",
       "      <td id=\"T_5a51e_row3_col8\" class=\"data row3 col8\" >0.9780</td>\n",
       "    </tr>\n",
       "    <tr>\n",
       "      <th id=\"T_5a51e_level0_row4\" class=\"row_heading level0 row4\" >svm</th>\n",
       "      <td id=\"T_5a51e_row4_col0\" class=\"data row4 col0\" >SVM - Linear Kernel</td>\n",
       "      <td id=\"T_5a51e_row4_col1\" class=\"data row4 col1\" >0.7517</td>\n",
       "      <td id=\"T_5a51e_row4_col2\" class=\"data row4 col2\" >0.0000</td>\n",
       "      <td id=\"T_5a51e_row4_col3\" class=\"data row4 col3\" >0.7784</td>\n",
       "      <td id=\"T_5a51e_row4_col4\" class=\"data row4 col4\" >0.5250</td>\n",
       "      <td id=\"T_5a51e_row4_col5\" class=\"data row4 col5\" >0.6248</td>\n",
       "      <td id=\"T_5a51e_row4_col6\" class=\"data row4 col6\" >0.4505</td>\n",
       "      <td id=\"T_5a51e_row4_col7\" class=\"data row4 col7\" >0.4725</td>\n",
       "      <td id=\"T_5a51e_row4_col8\" class=\"data row4 col8\" >0.7720</td>\n",
       "    </tr>\n",
       "    <tr>\n",
       "      <th id=\"T_5a51e_level0_row5\" class=\"row_heading level0 row5\" >gbc</th>\n",
       "      <td id=\"T_5a51e_row5_col0\" class=\"data row5 col0\" >Gradient Boosting Classifier</td>\n",
       "      <td id=\"T_5a51e_row5_col1\" class=\"data row5 col1\" >0.7594</td>\n",
       "      <td id=\"T_5a51e_row5_col2\" class=\"data row5 col2\" >0.8354</td>\n",
       "      <td id=\"T_5a51e_row5_col3\" class=\"data row5 col3\" >0.7457</td>\n",
       "      <td id=\"T_5a51e_row5_col4\" class=\"data row5 col4\" >0.5339</td>\n",
       "      <td id=\"T_5a51e_row5_col5\" class=\"data row5 col5\" >0.6221</td>\n",
       "      <td id=\"T_5a51e_row5_col6\" class=\"data row5 col6\" >0.4526</td>\n",
       "      <td id=\"T_5a51e_row5_col7\" class=\"data row5 col7\" >0.4664</td>\n",
       "      <td id=\"T_5a51e_row5_col8\" class=\"data row5 col8\" >1.0180</td>\n",
       "    </tr>\n",
       "    <tr>\n",
       "      <th id=\"T_5a51e_level0_row6\" class=\"row_heading level0 row6\" >lightgbm</th>\n",
       "      <td id=\"T_5a51e_row6_col0\" class=\"data row6 col0\" >Light Gradient Boosting Machine</td>\n",
       "      <td id=\"T_5a51e_row6_col1\" class=\"data row6 col1\" >0.7588</td>\n",
       "      <td id=\"T_5a51e_row6_col2\" class=\"data row6 col2\" >0.8212</td>\n",
       "      <td id=\"T_5a51e_row6_col3\" class=\"data row6 col3\" >0.6974</td>\n",
       "      <td id=\"T_5a51e_row6_col4\" class=\"data row6 col4\" >0.5357</td>\n",
       "      <td id=\"T_5a51e_row6_col5\" class=\"data row6 col5\" >0.6052</td>\n",
       "      <td id=\"T_5a51e_row6_col6\" class=\"data row6 col6\" >0.4359</td>\n",
       "      <td id=\"T_5a51e_row6_col7\" class=\"data row6 col7\" >0.4446</td>\n",
       "      <td id=\"T_5a51e_row6_col8\" class=\"data row6 col8\" >0.8120</td>\n",
       "    </tr>\n",
       "    <tr>\n",
       "      <th id=\"T_5a51e_level0_row7\" class=\"row_heading level0 row7\" >et</th>\n",
       "      <td id=\"T_5a51e_row7_col0\" class=\"data row7 col0\" >Extra Trees Classifier</td>\n",
       "      <td id=\"T_5a51e_row7_col1\" class=\"data row7 col1\" >0.7523</td>\n",
       "      <td id=\"T_5a51e_row7_col2\" class=\"data row7 col2\" >0.7952</td>\n",
       "      <td id=\"T_5a51e_row7_col3\" class=\"data row7 col3\" >0.6639</td>\n",
       "      <td id=\"T_5a51e_row7_col4\" class=\"data row7 col4\" >0.5278</td>\n",
       "      <td id=\"T_5a51e_row7_col5\" class=\"data row7 col5\" >0.5872</td>\n",
       "      <td id=\"T_5a51e_row7_col6\" class=\"data row7 col6\" >0.4138</td>\n",
       "      <td id=\"T_5a51e_row7_col7\" class=\"data row7 col7\" >0.4201</td>\n",
       "      <td id=\"T_5a51e_row7_col8\" class=\"data row7 col8\" >1.0840</td>\n",
       "    </tr>\n",
       "    <tr>\n",
       "      <th id=\"T_5a51e_level0_row8\" class=\"row_heading level0 row8\" >rf</th>\n",
       "      <td id=\"T_5a51e_row8_col0\" class=\"data row8 col0\" >Random Forest Classifier</td>\n",
       "      <td id=\"T_5a51e_row8_col1\" class=\"data row8 col1\" >0.7384</td>\n",
       "      <td id=\"T_5a51e_row8_col2\" class=\"data row8 col2\" >0.8034</td>\n",
       "      <td id=\"T_5a51e_row8_col3\" class=\"data row8 col3\" >0.6803</td>\n",
       "      <td id=\"T_5a51e_row8_col4\" class=\"data row8 col4\" >0.5058</td>\n",
       "      <td id=\"T_5a51e_row8_col5\" class=\"data row8 col5\" >0.5801</td>\n",
       "      <td id=\"T_5a51e_row8_col6\" class=\"data row8 col6\" >0.3961</td>\n",
       "      <td id=\"T_5a51e_row8_col7\" class=\"data row8 col7\" >0.4054</td>\n",
       "      <td id=\"T_5a51e_row8_col8\" class=\"data row8 col8\" >1.1540</td>\n",
       "    </tr>\n",
       "    <tr>\n",
       "      <th id=\"T_5a51e_level0_row9\" class=\"row_heading level0 row9\" >knn</th>\n",
       "      <td id=\"T_5a51e_row9_col0\" class=\"data row9 col0\" >K Neighbors Classifier</td>\n",
       "      <td id=\"T_5a51e_row9_col1\" class=\"data row9 col1\" >0.7390</td>\n",
       "      <td id=\"T_5a51e_row9_col2\" class=\"data row9 col2\" >0.7846</td>\n",
       "      <td id=\"T_5a51e_row9_col3\" class=\"data row9 col3\" >0.6714</td>\n",
       "      <td id=\"T_5a51e_row9_col4\" class=\"data row9 col4\" >0.5068</td>\n",
       "      <td id=\"T_5a51e_row9_col5\" class=\"data row9 col5\" >0.5771</td>\n",
       "      <td id=\"T_5a51e_row9_col6\" class=\"data row9 col6\" >0.3938</td>\n",
       "      <td id=\"T_5a51e_row9_col7\" class=\"data row9 col7\" >0.4024</td>\n",
       "      <td id=\"T_5a51e_row9_col8\" class=\"data row9 col8\" >0.9960</td>\n",
       "    </tr>\n",
       "    <tr>\n",
       "      <th id=\"T_5a51e_level0_row10\" class=\"row_heading level0 row10\" >nb</th>\n",
       "      <td id=\"T_5a51e_row10_col0\" class=\"data row10 col0\" >Naive Bayes</td>\n",
       "      <td id=\"T_5a51e_row10_col1\" class=\"data row10 col1\" >0.7639</td>\n",
       "      <td id=\"T_5a51e_row10_col2\" class=\"data row10 col2\" >0.8317</td>\n",
       "      <td id=\"T_5a51e_row10_col3\" class=\"data row10 col3\" >0.6030</td>\n",
       "      <td id=\"T_5a51e_row10_col4\" class=\"data row10 col4\" >0.5647</td>\n",
       "      <td id=\"T_5a51e_row10_col5\" class=\"data row10 col5\" >0.5586</td>\n",
       "      <td id=\"T_5a51e_row10_col6\" class=\"data row10 col6\" >0.4038</td>\n",
       "      <td id=\"T_5a51e_row10_col7\" class=\"data row10 col7\" >0.4211</td>\n",
       "      <td id=\"T_5a51e_row10_col8\" class=\"data row10 col8\" >0.9520</td>\n",
       "    </tr>\n",
       "    <tr>\n",
       "      <th id=\"T_5a51e_level0_row11\" class=\"row_heading level0 row11\" >qda</th>\n",
       "      <td id=\"T_5a51e_row11_col0\" class=\"data row11 col0\" >Quadratic Discriminant Analysis</td>\n",
       "      <td id=\"T_5a51e_row11_col1\" class=\"data row11 col1\" >0.7637</td>\n",
       "      <td id=\"T_5a51e_row11_col2\" class=\"data row11 col2\" >0.8250</td>\n",
       "      <td id=\"T_5a51e_row11_col3\" class=\"data row11 col3\" >0.5554</td>\n",
       "      <td id=\"T_5a51e_row11_col4\" class=\"data row11 col4\" >0.5728</td>\n",
       "      <td id=\"T_5a51e_row11_col5\" class=\"data row11 col5\" >0.5336</td>\n",
       "      <td id=\"T_5a51e_row11_col6\" class=\"data row11 col6\" >0.3835</td>\n",
       "      <td id=\"T_5a51e_row11_col7\" class=\"data row11 col7\" >0.4027</td>\n",
       "      <td id=\"T_5a51e_row11_col8\" class=\"data row11 col8\" >0.7760</td>\n",
       "    </tr>\n",
       "    <tr>\n",
       "      <th id=\"T_5a51e_level0_row12\" class=\"row_heading level0 row12\" >dt</th>\n",
       "      <td id=\"T_5a51e_row12_col0\" class=\"data row12 col0\" >Decision Tree Classifier</td>\n",
       "      <td id=\"T_5a51e_row12_col1\" class=\"data row12 col1\" >0.6987</td>\n",
       "      <td id=\"T_5a51e_row12_col2\" class=\"data row12 col2\" >0.6742</td>\n",
       "      <td id=\"T_5a51e_row12_col3\" class=\"data row12 col3\" >0.5911</td>\n",
       "      <td id=\"T_5a51e_row12_col4\" class=\"data row12 col4\" >0.4497</td>\n",
       "      <td id=\"T_5a51e_row12_col5\" class=\"data row12 col5\" >0.5102</td>\n",
       "      <td id=\"T_5a51e_row12_col6\" class=\"data row12 col6\" >0.2987</td>\n",
       "      <td id=\"T_5a51e_row12_col7\" class=\"data row12 col7\" >0.3049</td>\n",
       "      <td id=\"T_5a51e_row12_col8\" class=\"data row12 col8\" >0.8040</td>\n",
       "    </tr>\n",
       "    <tr>\n",
       "      <th id=\"T_5a51e_level0_row13\" class=\"row_heading level0 row13\" >dummy</th>\n",
       "      <td id=\"T_5a51e_row13_col0\" class=\"data row13 col0\" >Dummy Classifier</td>\n",
       "      <td id=\"T_5a51e_row13_col1\" class=\"data row13 col1\" >0.7343</td>\n",
       "      <td id=\"T_5a51e_row13_col2\" class=\"data row13 col2\" >0.5000</td>\n",
       "      <td id=\"T_5a51e_row13_col3\" class=\"data row13 col3\" >0.0000</td>\n",
       "      <td id=\"T_5a51e_row13_col4\" class=\"data row13 col4\" >0.0000</td>\n",
       "      <td id=\"T_5a51e_row13_col5\" class=\"data row13 col5\" >0.0000</td>\n",
       "      <td id=\"T_5a51e_row13_col6\" class=\"data row13 col6\" >0.0000</td>\n",
       "      <td id=\"T_5a51e_row13_col7\" class=\"data row13 col7\" >0.0000</td>\n",
       "      <td id=\"T_5a51e_row13_col8\" class=\"data row13 col8\" >0.8700</td>\n",
       "    </tr>\n",
       "  </tbody>\n",
       "</table>\n"
      ],
      "text/plain": [
       "<pandas.io.formats.style.Styler at 0x1b5543ef0a0>"
      ]
     },
     "metadata": {},
     "output_type": "display_data"
    },
    {
     "data": {
      "application/vnd.jupyter.widget-view+json": {
       "model_id": "",
       "version_major": 2,
       "version_minor": 0
      },
      "text/plain": [
       "Processing:   0%|          | 0/57 [00:00<?, ?it/s]"
      ]
     },
     "metadata": {},
     "output_type": "display_data"
    }
   ],
   "source": [
    "top_model = compare_models(fold = 5, sort = \"F1\", n_select = 1, exclude = [\"catboost\"])"
   ]
  },
  {
   "cell_type": "markdown",
   "metadata": {},
   "source": [
    "The best model is the **Linear Discriminant Analysis**, with a F1 Score around **0.6328**. "
   ]
  },
  {
   "cell_type": "markdown",
   "metadata": {},
   "source": [
    ">### **Tune Model**"
   ]
  },
  {
   "cell_type": "markdown",
   "metadata": {},
   "source": [
    "Now, it's time to tune the model. "
   ]
  },
  {
   "cell_type": "code",
   "execution_count": 10,
   "metadata": {},
   "outputs": [
    {
     "data": {
      "text/html": [
       "<style>#sk-container-id-1 {color: black;background-color: white;}#sk-container-id-1 pre{padding: 0;}#sk-container-id-1 div.sk-toggleable {background-color: white;}#sk-container-id-1 label.sk-toggleable__label {cursor: pointer;display: block;width: 100%;margin-bottom: 0;padding: 0.3em;box-sizing: border-box;text-align: center;}#sk-container-id-1 label.sk-toggleable__label-arrow:before {content: \"▸\";float: left;margin-right: 0.25em;color: #696969;}#sk-container-id-1 label.sk-toggleable__label-arrow:hover:before {color: black;}#sk-container-id-1 div.sk-estimator:hover label.sk-toggleable__label-arrow:before {color: black;}#sk-container-id-1 div.sk-toggleable__content {max-height: 0;max-width: 0;overflow: hidden;text-align: left;background-color: #f0f8ff;}#sk-container-id-1 div.sk-toggleable__content pre {margin: 0.2em;color: black;border-radius: 0.25em;background-color: #f0f8ff;}#sk-container-id-1 input.sk-toggleable__control:checked~div.sk-toggleable__content {max-height: 200px;max-width: 100%;overflow: auto;}#sk-container-id-1 input.sk-toggleable__control:checked~label.sk-toggleable__label-arrow:before {content: \"▾\";}#sk-container-id-1 div.sk-estimator input.sk-toggleable__control:checked~label.sk-toggleable__label {background-color: #d4ebff;}#sk-container-id-1 div.sk-label input.sk-toggleable__control:checked~label.sk-toggleable__label {background-color: #d4ebff;}#sk-container-id-1 input.sk-hidden--visually {border: 0;clip: rect(1px 1px 1px 1px);clip: rect(1px, 1px, 1px, 1px);height: 1px;margin: -1px;overflow: hidden;padding: 0;position: absolute;width: 1px;}#sk-container-id-1 div.sk-estimator {font-family: monospace;background-color: #f0f8ff;border: 1px dotted black;border-radius: 0.25em;box-sizing: border-box;margin-bottom: 0.5em;}#sk-container-id-1 div.sk-estimator:hover {background-color: #d4ebff;}#sk-container-id-1 div.sk-parallel-item::after {content: \"\";width: 100%;border-bottom: 1px solid gray;flex-grow: 1;}#sk-container-id-1 div.sk-label:hover label.sk-toggleable__label {background-color: #d4ebff;}#sk-container-id-1 div.sk-serial::before {content: \"\";position: absolute;border-left: 1px solid gray;box-sizing: border-box;top: 0;bottom: 0;left: 50%;z-index: 0;}#sk-container-id-1 div.sk-serial {display: flex;flex-direction: column;align-items: center;background-color: white;padding-right: 0.2em;padding-left: 0.2em;position: relative;}#sk-container-id-1 div.sk-item {position: relative;z-index: 1;}#sk-container-id-1 div.sk-parallel {display: flex;align-items: stretch;justify-content: center;background-color: white;position: relative;}#sk-container-id-1 div.sk-item::before, #sk-container-id-1 div.sk-parallel-item::before {content: \"\";position: absolute;border-left: 1px solid gray;box-sizing: border-box;top: 0;bottom: 0;left: 50%;z-index: -1;}#sk-container-id-1 div.sk-parallel-item {display: flex;flex-direction: column;z-index: 1;position: relative;background-color: white;}#sk-container-id-1 div.sk-parallel-item:first-child::after {align-self: flex-end;width: 50%;}#sk-container-id-1 div.sk-parallel-item:last-child::after {align-self: flex-start;width: 50%;}#sk-container-id-1 div.sk-parallel-item:only-child::after {width: 0;}#sk-container-id-1 div.sk-dashed-wrapped {border: 1px dashed gray;margin: 0 0.4em 0.5em 0.4em;box-sizing: border-box;padding-bottom: 0.4em;background-color: white;}#sk-container-id-1 div.sk-label label {font-family: monospace;font-weight: bold;display: inline-block;line-height: 1.2em;}#sk-container-id-1 div.sk-label-container {text-align: center;}#sk-container-id-1 div.sk-container {/* jupyter's `normalize.less` sets `[hidden] { display: none; }` but bootstrap.min.css set `[hidden] { display: none !important; }` so we also need the `!important` here to be able to override the default hidden behavior on the sphinx rendered scikit-learn.org. See: https://github.com/scikit-learn/scikit-learn/issues/21755 */display: inline-block !important;position: relative;}#sk-container-id-1 div.sk-text-repr-fallback {display: none;}</style><div id=\"sk-container-id-1\" class=\"sk-top-container\"><div class=\"sk-text-repr-fallback\"><pre>LinearDiscriminantAnalysis(covariance_estimator=None, n_components=None,\n",
       "                           priors=None, shrinkage=None, solver=&#x27;svd&#x27;,\n",
       "                           store_covariance=False, tol=0.0001)</pre><b>In a Jupyter environment, please rerun this cell to show the HTML representation or trust the notebook. <br />On GitHub, the HTML representation is unable to render, please try loading this page with nbviewer.org.</b></div><div class=\"sk-container\" hidden><div class=\"sk-item\"><div class=\"sk-estimator sk-toggleable\"><input class=\"sk-toggleable__control sk-hidden--visually\" id=\"sk-estimator-id-1\" type=\"checkbox\" checked><label for=\"sk-estimator-id-1\" class=\"sk-toggleable__label sk-toggleable__label-arrow\">LinearDiscriminantAnalysis</label><div class=\"sk-toggleable__content\"><pre>LinearDiscriminantAnalysis(covariance_estimator=None, n_components=None,\n",
       "                           priors=None, shrinkage=None, solver=&#x27;svd&#x27;,\n",
       "                           store_covariance=False, tol=0.0001)</pre></div></div></div></div></div>"
      ],
      "text/plain": [
       "LinearDiscriminantAnalysis(covariance_estimator=None, n_components=None,\n",
       "                           priors=None, shrinkage=None, solver='svd',\n",
       "                           store_covariance=False, tol=0.0001)"
      ]
     },
     "execution_count": 10,
     "metadata": {},
     "output_type": "execute_result"
    }
   ],
   "source": [
    "tuned_model = tune_model(estimator = top_model, \n",
    "                         fold = 5,\n",
    "                         optimize = \"F1\", \n",
    "                         choose_better = True,\n",
    "                         verbose = False)\n",
    "\n",
    "tuned_model"
   ]
  },
  {
   "cell_type": "markdown",
   "metadata": {},
   "source": [
    "We also, try to bag (boost) the model to see whether can we improve the F1 or not."
   ]
  },
  {
   "cell_type": "code",
   "execution_count": 12,
   "metadata": {},
   "outputs": [
    {
     "data": {
      "text/html": [],
      "text/plain": [
       "<IPython.core.display.HTML object>"
      ]
     },
     "metadata": {},
     "output_type": "display_data"
    },
    {
     "data": {
      "text/html": [
       "<style type=\"text/css\">\n",
       "#T_6c268_row5_col0, #T_6c268_row5_col1, #T_6c268_row5_col2, #T_6c268_row5_col3, #T_6c268_row5_col4, #T_6c268_row5_col5, #T_6c268_row5_col6 {\n",
       "  background: yellow;\n",
       "}\n",
       "</style>\n",
       "<table id=\"T_6c268\">\n",
       "  <thead>\n",
       "    <tr>\n",
       "      <th class=\"blank level0\" >&nbsp;</th>\n",
       "      <th id=\"T_6c268_level0_col0\" class=\"col_heading level0 col0\" >Accuracy</th>\n",
       "      <th id=\"T_6c268_level0_col1\" class=\"col_heading level0 col1\" >AUC</th>\n",
       "      <th id=\"T_6c268_level0_col2\" class=\"col_heading level0 col2\" >Recall</th>\n",
       "      <th id=\"T_6c268_level0_col3\" class=\"col_heading level0 col3\" >Prec.</th>\n",
       "      <th id=\"T_6c268_level0_col4\" class=\"col_heading level0 col4\" >F1</th>\n",
       "      <th id=\"T_6c268_level0_col5\" class=\"col_heading level0 col5\" >Kappa</th>\n",
       "      <th id=\"T_6c268_level0_col6\" class=\"col_heading level0 col6\" >MCC</th>\n",
       "    </tr>\n",
       "    <tr>\n",
       "      <th class=\"index_name level0\" >Fold</th>\n",
       "      <th class=\"blank col0\" >&nbsp;</th>\n",
       "      <th class=\"blank col1\" >&nbsp;</th>\n",
       "      <th class=\"blank col2\" >&nbsp;</th>\n",
       "      <th class=\"blank col3\" >&nbsp;</th>\n",
       "      <th class=\"blank col4\" >&nbsp;</th>\n",
       "      <th class=\"blank col5\" >&nbsp;</th>\n",
       "      <th class=\"blank col6\" >&nbsp;</th>\n",
       "    </tr>\n",
       "  </thead>\n",
       "  <tbody>\n",
       "    <tr>\n",
       "      <th id=\"T_6c268_level0_row0\" class=\"row_heading level0 row0\" >0</th>\n",
       "      <td id=\"T_6c268_row0_col0\" class=\"data row0 col0\" >0.7601</td>\n",
       "      <td id=\"T_6c268_row0_col1\" class=\"data row0 col1\" >0.8315</td>\n",
       "      <td id=\"T_6c268_row0_col2\" class=\"data row0 col2\" >0.7546</td>\n",
       "      <td id=\"T_6c268_row0_col3\" class=\"data row0 col3\" >0.5342</td>\n",
       "      <td id=\"T_6c268_row0_col4\" class=\"data row0 col4\" >0.6256</td>\n",
       "      <td id=\"T_6c268_row0_col5\" class=\"data row0 col5\" >0.4566</td>\n",
       "      <td id=\"T_6c268_row0_col6\" class=\"data row0 col6\" >0.4714</td>\n",
       "    </tr>\n",
       "    <tr>\n",
       "      <th id=\"T_6c268_level0_row1\" class=\"row_heading level0 row1\" >1</th>\n",
       "      <td id=\"T_6c268_row1_col0\" class=\"data row1 col0\" >0.7522</td>\n",
       "      <td id=\"T_6c268_row1_col1\" class=\"data row1 col1\" >0.8424</td>\n",
       "      <td id=\"T_6c268_row1_col2\" class=\"data row1 col2\" >0.7881</td>\n",
       "      <td id=\"T_6c268_row1_col3\" class=\"data row1 col3\" >0.5222</td>\n",
       "      <td id=\"T_6c268_row1_col4\" class=\"data row1 col4\" >0.6281</td>\n",
       "      <td id=\"T_6c268_row1_col5\" class=\"data row1 col5\" >0.4536</td>\n",
       "      <td id=\"T_6c268_row1_col6\" class=\"data row1 col6\" >0.4752</td>\n",
       "    </tr>\n",
       "    <tr>\n",
       "      <th id=\"T_6c268_level0_row2\" class=\"row_heading level0 row2\" >2</th>\n",
       "      <td id=\"T_6c268_row2_col0\" class=\"data row2 col0\" >0.7559</td>\n",
       "      <td id=\"T_6c268_row2_col1\" class=\"data row2 col1\" >0.8425</td>\n",
       "      <td id=\"T_6c268_row2_col2\" class=\"data row2 col2\" >0.8141</td>\n",
       "      <td id=\"T_6c268_row2_col3\" class=\"data row2 col3\" >0.5264</td>\n",
       "      <td id=\"T_6c268_row2_col4\" class=\"data row2 col4\" >0.6394</td>\n",
       "      <td id=\"T_6c268_row2_col5\" class=\"data row2 col5\" >0.4675</td>\n",
       "      <td id=\"T_6c268_row2_col6\" class=\"data row2 col6\" >0.4929</td>\n",
       "    </tr>\n",
       "    <tr>\n",
       "      <th id=\"T_6c268_level0_row3\" class=\"row_heading level0 row3\" >3</th>\n",
       "      <td id=\"T_6c268_row3_col0\" class=\"data row3 col0\" >0.7717</td>\n",
       "      <td id=\"T_6c268_row3_col1\" class=\"data row3 col1\" >0.8512</td>\n",
       "      <td id=\"T_6c268_row3_col2\" class=\"data row3 col2\" >0.7732</td>\n",
       "      <td id=\"T_6c268_row3_col3\" class=\"data row3 col3\" >0.5503</td>\n",
       "      <td id=\"T_6c268_row3_col4\" class=\"data row3 col4\" >0.6430</td>\n",
       "      <td id=\"T_6c268_row3_col5\" class=\"data row3 col5\" >0.4821</td>\n",
       "      <td id=\"T_6c268_row3_col6\" class=\"data row3 col6\" >0.4972</td>\n",
       "    </tr>\n",
       "    <tr>\n",
       "      <th id=\"T_6c268_level0_row4\" class=\"row_heading level0 row4\" >4</th>\n",
       "      <td id=\"T_6c268_row4_col0\" class=\"data row4 col0\" >0.7322</td>\n",
       "      <td id=\"T_6c268_row4_col1\" class=\"data row4 col1\" >0.8185</td>\n",
       "      <td id=\"T_6c268_row4_col2\" class=\"data row4 col2\" >0.7732</td>\n",
       "      <td id=\"T_6c268_row4_col3\" class=\"data row4 col3\" >0.4976</td>\n",
       "      <td id=\"T_6c268_row4_col4\" class=\"data row4 col4\" >0.6055</td>\n",
       "      <td id=\"T_6c268_row4_col5\" class=\"data row4 col5\" >0.4169</td>\n",
       "      <td id=\"T_6c268_row4_col6\" class=\"data row4 col6\" >0.4402</td>\n",
       "    </tr>\n",
       "    <tr>\n",
       "      <th id=\"T_6c268_level0_row5\" class=\"row_heading level0 row5\" >Mean</th>\n",
       "      <td id=\"T_6c268_row5_col0\" class=\"data row5 col0\" >0.7544</td>\n",
       "      <td id=\"T_6c268_row5_col1\" class=\"data row5 col1\" >0.8372</td>\n",
       "      <td id=\"T_6c268_row5_col2\" class=\"data row5 col2\" >0.7807</td>\n",
       "      <td id=\"T_6c268_row5_col3\" class=\"data row5 col3\" >0.5261</td>\n",
       "      <td id=\"T_6c268_row5_col4\" class=\"data row5 col4\" >0.6283</td>\n",
       "      <td id=\"T_6c268_row5_col5\" class=\"data row5 col5\" >0.4553</td>\n",
       "      <td id=\"T_6c268_row5_col6\" class=\"data row5 col6\" >0.4754</td>\n",
       "    </tr>\n",
       "    <tr>\n",
       "      <th id=\"T_6c268_level0_row6\" class=\"row_heading level0 row6\" >Std</th>\n",
       "      <td id=\"T_6c268_row6_col0\" class=\"data row6 col0\" >0.0129</td>\n",
       "      <td id=\"T_6c268_row6_col1\" class=\"data row6 col1\" >0.0113</td>\n",
       "      <td id=\"T_6c268_row6_col2\" class=\"data row6 col2\" >0.0198</td>\n",
       "      <td id=\"T_6c268_row6_col3\" class=\"data row6 col3\" >0.0172</td>\n",
       "      <td id=\"T_6c268_row6_col4\" class=\"data row6 col4\" >0.0131</td>\n",
       "      <td id=\"T_6c268_row6_col5\" class=\"data row6 col5\" >0.0217</td>\n",
       "      <td id=\"T_6c268_row6_col6\" class=\"data row6 col6\" >0.0202</td>\n",
       "    </tr>\n",
       "  </tbody>\n",
       "</table>\n"
      ],
      "text/plain": [
       "<pandas.io.formats.style.Styler at 0x1b5543ee560>"
      ]
     },
     "metadata": {},
     "output_type": "display_data"
    },
    {
     "data": {
      "application/vnd.jupyter.widget-view+json": {
       "model_id": "",
       "version_major": 2,
       "version_minor": 0
      },
      "text/plain": [
       "Processing:   0%|          | 0/6 [00:00<?, ?it/s]"
      ]
     },
     "metadata": {},
     "output_type": "display_data"
    }
   ],
   "source": [
    "boosted_model = ensemble_model(tuned_model, \n",
    "                              fold = 5)"
   ]
  },
  {
   "cell_type": "markdown",
   "metadata": {},
   "source": [
    "We could not improve the F1. Now, we can try for blend the model."
   ]
  },
  {
   "cell_type": "code",
   "execution_count": 15,
   "metadata": {},
   "outputs": [
    {
     "data": {
      "text/html": [],
      "text/plain": [
       "<IPython.core.display.HTML object>"
      ]
     },
     "metadata": {},
     "output_type": "display_data"
    },
    {
     "data": {
      "text/html": [
       "<style type=\"text/css\">\n",
       "#T_e96a6_row5_col0, #T_e96a6_row5_col1, #T_e96a6_row5_col2, #T_e96a6_row5_col3, #T_e96a6_row5_col4, #T_e96a6_row5_col5, #T_e96a6_row5_col6 {\n",
       "  background: yellow;\n",
       "}\n",
       "</style>\n",
       "<table id=\"T_e96a6\">\n",
       "  <thead>\n",
       "    <tr>\n",
       "      <th class=\"blank level0\" >&nbsp;</th>\n",
       "      <th id=\"T_e96a6_level0_col0\" class=\"col_heading level0 col0\" >Accuracy</th>\n",
       "      <th id=\"T_e96a6_level0_col1\" class=\"col_heading level0 col1\" >AUC</th>\n",
       "      <th id=\"T_e96a6_level0_col2\" class=\"col_heading level0 col2\" >Recall</th>\n",
       "      <th id=\"T_e96a6_level0_col3\" class=\"col_heading level0 col3\" >Prec.</th>\n",
       "      <th id=\"T_e96a6_level0_col4\" class=\"col_heading level0 col4\" >F1</th>\n",
       "      <th id=\"T_e96a6_level0_col5\" class=\"col_heading level0 col5\" >Kappa</th>\n",
       "      <th id=\"T_e96a6_level0_col6\" class=\"col_heading level0 col6\" >MCC</th>\n",
       "    </tr>\n",
       "    <tr>\n",
       "      <th class=\"index_name level0\" >Fold</th>\n",
       "      <th class=\"blank col0\" >&nbsp;</th>\n",
       "      <th class=\"blank col1\" >&nbsp;</th>\n",
       "      <th class=\"blank col2\" >&nbsp;</th>\n",
       "      <th class=\"blank col3\" >&nbsp;</th>\n",
       "      <th class=\"blank col4\" >&nbsp;</th>\n",
       "      <th class=\"blank col5\" >&nbsp;</th>\n",
       "      <th class=\"blank col6\" >&nbsp;</th>\n",
       "    </tr>\n",
       "  </thead>\n",
       "  <tbody>\n",
       "    <tr>\n",
       "      <th id=\"T_e96a6_level0_row0\" class=\"row_heading level0 row0\" >0</th>\n",
       "      <td id=\"T_e96a6_row0_col0\" class=\"data row0 col0\" >0.7493</td>\n",
       "      <td id=\"T_e96a6_row0_col1\" class=\"data row0 col1\" >0.8387</td>\n",
       "      <td id=\"T_e96a6_row0_col2\" class=\"data row0 col2\" >0.7770</td>\n",
       "      <td id=\"T_e96a6_row0_col3\" class=\"data row0 col3\" >0.5186</td>\n",
       "      <td id=\"T_e96a6_row0_col4\" class=\"data row0 col4\" >0.6220</td>\n",
       "      <td id=\"T_e96a6_row0_col5\" class=\"data row0 col5\" >0.4454</td>\n",
       "      <td id=\"T_e96a6_row0_col6\" class=\"data row0 col6\" >0.4658</td>\n",
       "    </tr>\n",
       "    <tr>\n",
       "      <th id=\"T_e96a6_level0_row1\" class=\"row_heading level0 row1\" >1</th>\n",
       "      <td id=\"T_e96a6_row1_col0\" class=\"data row1 col0\" >0.7552</td>\n",
       "      <td id=\"T_e96a6_row1_col1\" class=\"data row1 col1\" >0.8452</td>\n",
       "      <td id=\"T_e96a6_row1_col2\" class=\"data row1 col2\" >0.7844</td>\n",
       "      <td id=\"T_e96a6_row1_col3\" class=\"data row1 col3\" >0.5262</td>\n",
       "      <td id=\"T_e96a6_row1_col4\" class=\"data row1 col4\" >0.6299</td>\n",
       "      <td id=\"T_e96a6_row1_col5\" class=\"data row1 col5\" >0.4574</td>\n",
       "      <td id=\"T_e96a6_row1_col6\" class=\"data row1 col6\" >0.4777</td>\n",
       "    </tr>\n",
       "    <tr>\n",
       "      <th id=\"T_e96a6_level0_row2\" class=\"row_heading level0 row2\" >2</th>\n",
       "      <td id=\"T_e96a6_row2_col0\" class=\"data row2 col0\" >0.7520</td>\n",
       "      <td id=\"T_e96a6_row2_col1\" class=\"data row2 col1\" >0.8415</td>\n",
       "      <td id=\"T_e96a6_row2_col2\" class=\"data row2 col2\" >0.8104</td>\n",
       "      <td id=\"T_e96a6_row2_col3\" class=\"data row2 col3\" >0.5215</td>\n",
       "      <td id=\"T_e96a6_row2_col4\" class=\"data row2 col4\" >0.6346</td>\n",
       "      <td id=\"T_e96a6_row2_col5\" class=\"data row2 col5\" >0.4600</td>\n",
       "      <td id=\"T_e96a6_row2_col6\" class=\"data row2 col6\" >0.4856</td>\n",
       "    </tr>\n",
       "    <tr>\n",
       "      <th id=\"T_e96a6_level0_row3\" class=\"row_heading level0 row3\" >3</th>\n",
       "      <td id=\"T_e96a6_row3_col0\" class=\"data row3 col0\" >0.7648</td>\n",
       "      <td id=\"T_e96a6_row3_col1\" class=\"data row3 col1\" >0.8618</td>\n",
       "      <td id=\"T_e96a6_row3_col2\" class=\"data row3 col2\" >0.8327</td>\n",
       "      <td id=\"T_e96a6_row3_col3\" class=\"data row3 col3\" >0.5372</td>\n",
       "      <td id=\"T_e96a6_row3_col4\" class=\"data row3 col4\" >0.6531</td>\n",
       "      <td id=\"T_e96a6_row3_col5\" class=\"data row3 col5\" >0.4874</td>\n",
       "      <td id=\"T_e96a6_row3_col6\" class=\"data row3 col6\" >0.5142</td>\n",
       "    </tr>\n",
       "    <tr>\n",
       "      <th id=\"T_e96a6_level0_row4\" class=\"row_heading level0 row4\" >4</th>\n",
       "      <td id=\"T_e96a6_row4_col0\" class=\"data row4 col0\" >0.7421</td>\n",
       "      <td id=\"T_e96a6_row4_col1\" class=\"data row4 col1\" >0.8102</td>\n",
       "      <td id=\"T_e96a6_row4_col2\" class=\"data row4 col2\" >0.6617</td>\n",
       "      <td id=\"T_e96a6_row4_col3\" class=\"data row4 col3\" >0.5115</td>\n",
       "      <td id=\"T_e96a6_row4_col4\" class=\"data row4 col4\" >0.5770</td>\n",
       "      <td id=\"T_e96a6_row4_col5\" class=\"data row4 col5\" >0.3958</td>\n",
       "      <td id=\"T_e96a6_row4_col6\" class=\"data row4 col6\" >0.4026</td>\n",
       "    </tr>\n",
       "    <tr>\n",
       "      <th id=\"T_e96a6_level0_row5\" class=\"row_heading level0 row5\" >Mean</th>\n",
       "      <td id=\"T_e96a6_row5_col0\" class=\"data row5 col0\" >0.7527</td>\n",
       "      <td id=\"T_e96a6_row5_col1\" class=\"data row5 col1\" >0.8395</td>\n",
       "      <td id=\"T_e96a6_row5_col2\" class=\"data row5 col2\" >0.7732</td>\n",
       "      <td id=\"T_e96a6_row5_col3\" class=\"data row5 col3\" >0.5230</td>\n",
       "      <td id=\"T_e96a6_row5_col4\" class=\"data row5 col4\" >0.6233</td>\n",
       "      <td id=\"T_e96a6_row5_col5\" class=\"data row5 col5\" >0.4492</td>\n",
       "      <td id=\"T_e96a6_row5_col6\" class=\"data row5 col6\" >0.4692</td>\n",
       "    </tr>\n",
       "    <tr>\n",
       "      <th id=\"T_e96a6_level0_row6\" class=\"row_heading level0 row6\" >Std</th>\n",
       "      <td id=\"T_e96a6_row6_col0\" class=\"data row6 col0\" >0.0075</td>\n",
       "      <td id=\"T_e96a6_row6_col1\" class=\"data row6 col1\" >0.0167</td>\n",
       "      <td id=\"T_e96a6_row6_col2\" class=\"data row6 col2\" >0.0592</td>\n",
       "      <td id=\"T_e96a6_row6_col3\" class=\"data row6 col3\" >0.0085</td>\n",
       "      <td id=\"T_e96a6_row6_col4\" class=\"data row6 col4\" >0.0253</td>\n",
       "      <td id=\"T_e96a6_row6_col5\" class=\"data row6 col5\" >0.0300</td>\n",
       "      <td id=\"T_e96a6_row6_col6\" class=\"data row6 col6\" >0.0369</td>\n",
       "    </tr>\n",
       "  </tbody>\n",
       "</table>\n"
      ],
      "text/plain": [
       "<pandas.io.formats.style.Styler at 0x1b548a28220>"
      ]
     },
     "metadata": {},
     "output_type": "display_data"
    },
    {
     "data": {
      "application/vnd.jupyter.widget-view+json": {
       "model_id": "",
       "version_major": 2,
       "version_minor": 0
      },
      "text/plain": [
       "Processing:   0%|          | 0/6 [00:00<?, ?it/s]"
      ]
     },
     "metadata": {},
     "output_type": "display_data"
    }
   ],
   "source": [
    "blended_model = blend_models(estimator_list = [tuned_model, boosted_model],\n",
    "                            fold = 5)"
   ]
  },
  {
   "cell_type": "markdown",
   "metadata": {},
   "source": [
    "We could not improve the F1."
   ]
  },
  {
   "cell_type": "markdown",
   "metadata": {},
   "source": [
    ">### **Declare Best Model**"
   ]
  },
  {
   "cell_type": "markdown",
   "metadata": {},
   "source": [
    "The best model is the **tuned_model**."
   ]
  },
  {
   "cell_type": "code",
   "execution_count": 16,
   "metadata": {},
   "outputs": [
    {
     "name": "stdout",
     "output_type": "stream",
     "text": [
      "Model: <class 'sklearn.discriminant_analysis.LinearDiscriminantAnalysis'>\n"
     ]
    }
   ],
   "source": [
    "best_model = tuned_model\n",
    "print(f\"Model: {type(best_model)}\")"
   ]
  },
  {
   "cell_type": "markdown",
   "metadata": {
    "tags": []
   },
   "source": [
    "## **Test Model**"
   ]
  },
  {
   "cell_type": "markdown",
   "metadata": {},
   "source": [
    "The test is made with the remaining 30% of data that we got on the setup, it's important to see that the model is not overfitting."
   ]
  },
  {
   "cell_type": "code",
   "execution_count": 17,
   "metadata": {},
   "outputs": [
    {
     "data": {
      "text/html": [
       "<style type=\"text/css\">\n",
       "</style>\n",
       "<table id=\"T_b0414\">\n",
       "  <thead>\n",
       "    <tr>\n",
       "      <th class=\"blank level0\" >&nbsp;</th>\n",
       "      <th id=\"T_b0414_level0_col0\" class=\"col_heading level0 col0\" >Model</th>\n",
       "      <th id=\"T_b0414_level0_col1\" class=\"col_heading level0 col1\" >Accuracy</th>\n",
       "      <th id=\"T_b0414_level0_col2\" class=\"col_heading level0 col2\" >AUC</th>\n",
       "      <th id=\"T_b0414_level0_col3\" class=\"col_heading level0 col3\" >Recall</th>\n",
       "      <th id=\"T_b0414_level0_col4\" class=\"col_heading level0 col4\" >Prec.</th>\n",
       "      <th id=\"T_b0414_level0_col5\" class=\"col_heading level0 col5\" >F1</th>\n",
       "      <th id=\"T_b0414_level0_col6\" class=\"col_heading level0 col6\" >Kappa</th>\n",
       "      <th id=\"T_b0414_level0_col7\" class=\"col_heading level0 col7\" >MCC</th>\n",
       "    </tr>\n",
       "  </thead>\n",
       "  <tbody>\n",
       "    <tr>\n",
       "      <th id=\"T_b0414_level0_row0\" class=\"row_heading level0 row0\" >0</th>\n",
       "      <td id=\"T_b0414_row0_col0\" class=\"data row0 col0\" >Linear Discriminant Analysis</td>\n",
       "      <td id=\"T_b0414_row0_col1\" class=\"data row0 col1\" >0.7551</td>\n",
       "      <td id=\"T_b0414_row0_col2\" class=\"data row0 col2\" >0.8281</td>\n",
       "      <td id=\"T_b0414_row0_col3\" class=\"data row0 col3\" >0.7656</td>\n",
       "      <td id=\"T_b0414_row0_col4\" class=\"data row0 col4\" >0.5276</td>\n",
       "      <td id=\"T_b0414_row0_col5\" class=\"data row0 col5\" >0.6247</td>\n",
       "      <td id=\"T_b0414_row0_col6\" class=\"data row0 col6\" >0.4520</td>\n",
       "      <td id=\"T_b0414_row0_col7\" class=\"data row0 col7\" >0.4692</td>\n",
       "    </tr>\n",
       "  </tbody>\n",
       "</table>\n"
      ],
      "text/plain": [
       "<pandas.io.formats.style.Styler at 0x1b5550afbe0>"
      ]
     },
     "metadata": {},
     "output_type": "display_data"
    }
   ],
   "source": [
    "predict_model(best_model);"
   ]
  },
  {
   "cell_type": "markdown",
   "metadata": {
    "tags": []
   },
   "source": [
    "## **Analyse Model**"
   ]
  },
  {
   "cell_type": "markdown",
   "metadata": {},
   "source": [
    "Now, we can analyze the performance of model."
   ]
  },
  {
   "cell_type": "markdown",
   "metadata": {},
   "source": [
    "> ### **Learning Curve**"
   ]
  },
  {
   "cell_type": "code",
   "execution_count": 18,
   "metadata": {},
   "outputs": [
    {
     "data": {
      "text/html": [],
      "text/plain": [
       "<IPython.core.display.HTML object>"
      ]
     },
     "metadata": {},
     "output_type": "display_data"
    },
    {
     "data": {
      "image/png": "[encoded data removed]",
      "text/plain": [
       "<Figure size 800x550 with 1 Axes>"
      ]
     },
     "metadata": {},
     "output_type": "display_data"
    }
   ],
   "source": [
    "plot_model(best_model, plot = 'learning')"
   ]
  },
  {
   "cell_type": "markdown",
   "metadata": {},
   "source": [
    "A Learning Curve plot is a graphical representation of the training and validation performance of a model as a function of the number of training samples. It is a useful way to understand the bias-variance tradeoff of a model and to identify whether the model is underfitting or overfitting the data. The validation score increases with the number of training samples but eventually reaches a plateau, indicating that the model is not overfitting the data. The gap between the training (blue) (**0.7523**) and validation scores (green) (**0.7551**) is becoming small and stable, and finally they reached together."
   ]
  },
  {
   "cell_type": "markdown",
   "metadata": {},
   "source": [
    "> ### **ROC / AUC Curve**"
   ]
  },
  {
   "cell_type": "code",
   "execution_count": 19,
   "metadata": {},
   "outputs": [
    {
     "data": {
      "text/html": [],
      "text/plain": [
       "<IPython.core.display.HTML object>"
      ]
     },
     "metadata": {},
     "output_type": "display_data"
    },
    {
     "data": {
      "image/png": "[encoded data removed]",
      "text/plain": [
       "<Figure size 800x550 with 1 Axes>"
      ]
     },
     "metadata": {},
     "output_type": "display_data"
    }
   ],
   "source": [
    "plot_model(best_model, plot = \"auc\")"
   ]
  },
  {
   "cell_type": "markdown",
   "metadata": {},
   "source": [
    "The AUC is a metric that measures the overall performance of a model in distinguishing between positive and negative samples. The curve shows how the TPR and FPR change at different classification thresholds. A model with a higher AUC value generally indicates better discrimination and performance. A perfect model would have an AUC of 1.0, indicating that it can perfectly separate positive and negative instances. On the other hand, a model with an AUC of 0.5 implies that its predictions are no better than random guessing."
   ]
  },
  {
   "cell_type": "markdown",
   "metadata": {},
   "source": [
    "> ### **Classification Report**"
   ]
  },
  {
   "cell_type": "code",
   "execution_count": 20,
   "metadata": {},
   "outputs": [
    {
     "data": {
      "text/html": [],
      "text/plain": [
       "<IPython.core.display.HTML object>"
      ]
     },
     "metadata": {},
     "output_type": "display_data"
    },
    {
     "data": {
      "image/png": "[encoded data removed]",
      "text/plain": [
       "<Figure size 800x550 with 2 Axes>"
      ]
     },
     "metadata": {},
     "output_type": "display_data"
    }
   ],
   "source": [
    "plot_model(best_model, plot=\"class_report\")"
   ]
  },
  {
   "cell_type": "markdown",
   "metadata": {},
   "source": [
    "The model has done a good work on the metrics for the class 0 (Not Churned) but got a Precision close to 0.52 for class 1 (Churned)."
   ]
  },
  {
   "cell_type": "markdown",
   "metadata": {
    "tags": []
   },
   "source": [
    "## **Finalize Model**"
   ]
  },
  {
   "cell_type": "code",
   "execution_count": 21,
   "metadata": {},
   "outputs": [],
   "source": [
    "final_model = finalize_model(best_model)"
   ]
  },
  {
   "cell_type": "code",
   "execution_count": 24,
   "metadata": {},
   "outputs": [
    {
     "data": {
      "text/html": [
       "<style>#sk-container-id-2 {color: black;background-color: white;}#sk-container-id-2 pre{padding: 0;}#sk-container-id-2 div.sk-toggleable {background-color: white;}#sk-container-id-2 label.sk-toggleable__label {cursor: pointer;display: block;width: 100%;margin-bottom: 0;padding: 0.3em;box-sizing: border-box;text-align: center;}#sk-container-id-2 label.sk-toggleable__label-arrow:before {content: \"▸\";float: left;margin-right: 0.25em;color: #696969;}#sk-container-id-2 label.sk-toggleable__label-arrow:hover:before {color: black;}#sk-container-id-2 div.sk-estimator:hover label.sk-toggleable__label-arrow:before {color: black;}#sk-container-id-2 div.sk-toggleable__content {max-height: 0;max-width: 0;overflow: hidden;text-align: left;background-color: #f0f8ff;}#sk-container-id-2 div.sk-toggleable__content pre {margin: 0.2em;color: black;border-radius: 0.25em;background-color: #f0f8ff;}#sk-container-id-2 input.sk-toggleable__control:checked~div.sk-toggleable__content {max-height: 200px;max-width: 100%;overflow: auto;}#sk-container-id-2 input.sk-toggleable__control:checked~label.sk-toggleable__label-arrow:before {content: \"▾\";}#sk-container-id-2 div.sk-estimator input.sk-toggleable__control:checked~label.sk-toggleable__label {background-color: #d4ebff;}#sk-container-id-2 div.sk-label input.sk-toggleable__control:checked~label.sk-toggleable__label {background-color: #d4ebff;}#sk-container-id-2 input.sk-hidden--visually {border: 0;clip: rect(1px 1px 1px 1px);clip: rect(1px, 1px, 1px, 1px);height: 1px;margin: -1px;overflow: hidden;padding: 0;position: absolute;width: 1px;}#sk-container-id-2 div.sk-estimator {font-family: monospace;background-color: #f0f8ff;border: 1px dotted black;border-radius: 0.25em;box-sizing: border-box;margin-bottom: 0.5em;}#sk-container-id-2 div.sk-estimator:hover {background-color: #d4ebff;}#sk-container-id-2 div.sk-parallel-item::after {content: \"\";width: 100%;border-bottom: 1px solid gray;flex-grow: 1;}#sk-container-id-2 div.sk-label:hover label.sk-toggleable__label {background-color: #d4ebff;}#sk-container-id-2 div.sk-serial::before {content: \"\";position: absolute;border-left: 1px solid gray;box-sizing: border-box;top: 0;bottom: 0;left: 50%;z-index: 0;}#sk-container-id-2 div.sk-serial {display: flex;flex-direction: column;align-items: center;background-color: white;padding-right: 0.2em;padding-left: 0.2em;position: relative;}#sk-container-id-2 div.sk-item {position: relative;z-index: 1;}#sk-container-id-2 div.sk-parallel {display: flex;align-items: stretch;justify-content: center;background-color: white;position: relative;}#sk-container-id-2 div.sk-item::before, #sk-container-id-2 div.sk-parallel-item::before {content: \"\";position: absolute;border-left: 1px solid gray;box-sizing: border-box;top: 0;bottom: 0;left: 50%;z-index: -1;}#sk-container-id-2 div.sk-parallel-item {display: flex;flex-direction: column;z-index: 1;position: relative;background-color: white;}#sk-container-id-2 div.sk-parallel-item:first-child::after {align-self: flex-end;width: 50%;}#sk-container-id-2 div.sk-parallel-item:last-child::after {align-self: flex-start;width: 50%;}#sk-container-id-2 div.sk-parallel-item:only-child::after {width: 0;}#sk-container-id-2 div.sk-dashed-wrapped {border: 1px dashed gray;margin: 0 0.4em 0.5em 0.4em;box-sizing: border-box;padding-bottom: 0.4em;background-color: white;}#sk-container-id-2 div.sk-label label {font-family: monospace;font-weight: bold;display: inline-block;line-height: 1.2em;}#sk-container-id-2 div.sk-label-container {text-align: center;}#sk-container-id-2 div.sk-container {/* jupyter's `normalize.less` sets `[hidden] { display: none; }` but bootstrap.min.css set `[hidden] { display: none !important; }` so we also need the `!important` here to be able to override the default hidden behavior on the sphinx rendered scikit-learn.org. See: https://github.com/scikit-learn/scikit-learn/issues/21755 */display: inline-block !important;position: relative;}#sk-container-id-2 div.sk-text-repr-fallback {display: none;}</style><div id=\"sk-container-id-2\" class=\"sk-top-container\"><div class=\"sk-text-repr-fallback\"><pre>Pipeline(memory=FastMemory(location=C:\\Users\\Mehrdad\\AppData\\Local\\Temp\\joblib),\n",
       "         steps=[(&#x27;label_encoding&#x27;,\n",
       "                 TransformerWrapperWithInverse(exclude=None, include=None,\n",
       "                                               transformer=LabelEncoder())),\n",
       "                (&#x27;numerical_imputer&#x27;,\n",
       "                 TransformerWrapper(exclude=None,\n",
       "                                    include=[&#x27;tenure&#x27;, &#x27;MonthlyCharges&#x27;,\n",
       "                                             &#x27;TotalCharges&#x27;],\n",
       "                                    transformer=SimpleImputer(add_indicator=False,\n",
       "                                                              copy=True,...\n",
       "                                                                                         reg_lambda=0.0,\n",
       "                                                                                         silent=&#x27;warn&#x27;,\n",
       "                                                                                         subsample=1.0,\n",
       "                                                                                         subsample_for_bin=200000,\n",
       "                                                                                         subsample_freq=0),\n",
       "                                                                importance_getter=&#x27;auto&#x27;,\n",
       "                                                                max_features=3,\n",
       "                                                                norm_order=1,\n",
       "                                                                prefit=False,\n",
       "                                                                threshold=-inf))),\n",
       "                (&#x27;actual_estimator&#x27;,\n",
       "                 LinearDiscriminantAnalysis(covariance_estimator=None,\n",
       "                                            n_components=None, priors=None,\n",
       "                                            shrinkage=None, solver=&#x27;svd&#x27;,\n",
       "                                            store_covariance=False,\n",
       "                                            tol=0.0001))],\n",
       "         verbose=False)</pre><b>In a Jupyter environment, please rerun this cell to show the HTML representation or trust the notebook. <br />On GitHub, the HTML representation is unable to render, please try loading this page with nbviewer.org.</b></div><div class=\"sk-container\" hidden><div class=\"sk-item sk-dashed-wrapped\"><div class=\"sk-label-container\"><div class=\"sk-label sk-toggleable\"><input class=\"sk-toggleable__control sk-hidden--visually\" id=\"sk-estimator-id-2\" type=\"checkbox\" ><label for=\"sk-estimator-id-2\" class=\"sk-toggleable__label sk-toggleable__label-arrow\">Pipeline</label><div class=\"sk-toggleable__content\"><pre>Pipeline(memory=FastMemory(location=C:\\Users\\Mehrdad\\AppData\\Local\\Temp\\joblib),\n",
       "         steps=[(&#x27;label_encoding&#x27;,\n",
       "                 TransformerWrapperWithInverse(exclude=None, include=None,\n",
       "                                               transformer=LabelEncoder())),\n",
       "                (&#x27;numerical_imputer&#x27;,\n",
       "                 TransformerWrapper(exclude=None,\n",
       "                                    include=[&#x27;tenure&#x27;, &#x27;MonthlyCharges&#x27;,\n",
       "                                             &#x27;TotalCharges&#x27;],\n",
       "                                    transformer=SimpleImputer(add_indicator=False,\n",
       "                                                              copy=True,...\n",
       "                                                                                         reg_lambda=0.0,\n",
       "                                                                                         silent=&#x27;warn&#x27;,\n",
       "                                                                                         subsample=1.0,\n",
       "                                                                                         subsample_for_bin=200000,\n",
       "                                                                                         subsample_freq=0),\n",
       "                                                                importance_getter=&#x27;auto&#x27;,\n",
       "                                                                max_features=3,\n",
       "                                                                norm_order=1,\n",
       "                                                                prefit=False,\n",
       "                                                                threshold=-inf))),\n",
       "                (&#x27;actual_estimator&#x27;,\n",
       "                 LinearDiscriminantAnalysis(covariance_estimator=None,\n",
       "                                            n_components=None, priors=None,\n",
       "                                            shrinkage=None, solver=&#x27;svd&#x27;,\n",
       "                                            store_covariance=False,\n",
       "                                            tol=0.0001))],\n",
       "         verbose=False)</pre></div></div></div><div class=\"sk-serial\"><div class=\"sk-item sk-dashed-wrapped\"><div class=\"sk-label-container\"><div class=\"sk-label sk-toggleable\"><input class=\"sk-toggleable__control sk-hidden--visually\" id=\"sk-estimator-id-3\" type=\"checkbox\" ><label for=\"sk-estimator-id-3\" class=\"sk-toggleable__label sk-toggleable__label-arrow\">label_encoding: TransformerWrapperWithInverse</label><div class=\"sk-toggleable__content\"><pre>TransformerWrapperWithInverse(exclude=None, include=None,\n",
       "                              transformer=LabelEncoder())</pre></div></div></div><div class=\"sk-parallel\"><div class=\"sk-parallel-item\"><div class=\"sk-item\"><div class=\"sk-label-container\"><div class=\"sk-label sk-toggleable\"><input class=\"sk-toggleable__control sk-hidden--visually\" id=\"sk-estimator-id-4\" type=\"checkbox\" ><label for=\"sk-estimator-id-4\" class=\"sk-toggleable__label sk-toggleable__label-arrow\">transformer: LabelEncoder</label><div class=\"sk-toggleable__content\"><pre>LabelEncoder()</pre></div></div></div><div class=\"sk-serial\"><div class=\"sk-item\"><div class=\"sk-estimator sk-toggleable\"><input class=\"sk-toggleable__control sk-hidden--visually\" id=\"sk-estimator-id-5\" type=\"checkbox\" ><label for=\"sk-estimator-id-5\" class=\"sk-toggleable__label sk-toggleable__label-arrow\">LabelEncoder</label><div class=\"sk-toggleable__content\"><pre>LabelEncoder()</pre></div></div></div></div></div></div></div></div><div class=\"sk-item sk-dashed-wrapped\"><div class=\"sk-label-container\"><div class=\"sk-label sk-toggleable\"><input class=\"sk-toggleable__control sk-hidden--visually\" id=\"sk-estimator-id-6\" type=\"checkbox\" ><label for=\"sk-estimator-id-6\" class=\"sk-toggleable__label sk-toggleable__label-arrow\">numerical_imputer: TransformerWrapper</label><div class=\"sk-toggleable__content\"><pre>TransformerWrapper(exclude=None,\n",
       "                   include=[&#x27;tenure&#x27;, &#x27;MonthlyCharges&#x27;, &#x27;TotalCharges&#x27;],\n",
       "                   transformer=SimpleImputer(add_indicator=False, copy=True,\n",
       "                                             fill_value=None,\n",
       "                                             keep_empty_features=False,\n",
       "                                             missing_values=nan,\n",
       "                                             strategy=&#x27;mean&#x27;,\n",
       "                                             verbose=&#x27;deprecated&#x27;))</pre></div></div></div><div class=\"sk-parallel\"><div class=\"sk-parallel-item\"><div class=\"sk-item\"><div class=\"sk-label-container\"><div class=\"sk-label sk-toggleable\"><input class=\"sk-toggleable__control sk-hidden--visually\" id=\"sk-estimator-id-7\" type=\"checkbox\" ><label for=\"sk-estimator-id-7\" class=\"sk-toggleable__label sk-toggleable__label-arrow\">transformer: SimpleImputer</label><div class=\"sk-toggleable__content\"><pre>SimpleImputer()</pre></div></div></div><div class=\"sk-serial\"><div class=\"sk-item\"><div class=\"sk-estimator sk-toggleable\"><input class=\"sk-toggleable__control sk-hidden--visually\" id=\"sk-estimator-id-8\" type=\"checkbox\" ><label for=\"sk-estimator-id-8\" class=\"sk-toggleable__label sk-toggleable__label-arrow\">SimpleImputer</label><div class=\"sk-toggleable__content\"><pre>SimpleImputer()</pre></div></div></div></div></div></div></div></div><div class=\"sk-item sk-dashed-wrapped\"><div class=\"sk-label-container\"><div class=\"sk-label sk-toggleable\"><input class=\"sk-toggleable__control sk-hidden--visually\" id=\"sk-estimator-id-9\" type=\"checkbox\" ><label for=\"sk-estimator-id-9\" class=\"sk-toggleable__label sk-toggleable__label-arrow\">categorical_imputer: TransformerWrapper</label><div class=\"sk-toggleable__content\"><pre>TransformerWrapper(exclude=None,\n",
       "                   include=[&#x27;Dependents&#x27;, &#x27;MultipleLines&#x27;, &#x27;OnlineSecurity&#x27;,\n",
       "                            &#x27;OnlineBackup&#x27;, &#x27;DeviceProtection&#x27;, &#x27;TechSupport&#x27;,\n",
       "                            &#x27;StreamingTV&#x27;, &#x27;StreamingMovies&#x27;,\n",
       "                            &#x27;PaperlessBilling&#x27;, &#x27;gender&#x27;, &#x27;InternetService&#x27;,\n",
       "                            &#x27;Contract&#x27;, &#x27;PaymentMethod&#x27;, &#x27;SeniorCitizen&#x27;],\n",
       "                   transformer=SimpleImputer(add_indicator=False, copy=True,\n",
       "                                             fill_value=None,\n",
       "                                             keep_empty_features=False,\n",
       "                                             missing_values=nan,\n",
       "                                             strategy=&#x27;most_frequent&#x27;,\n",
       "                                             verbose=&#x27;deprecated&#x27;))</pre></div></div></div><div class=\"sk-parallel\"><div class=\"sk-parallel-item\"><div class=\"sk-item\"><div class=\"sk-label-container\"><div class=\"sk-label sk-toggleable\"><input class=\"sk-toggleable__control sk-hidden--visually\" id=\"sk-estimator-id-10\" type=\"checkbox\" ><label for=\"sk-estimator-id-10\" class=\"sk-toggleable__label sk-toggleable__label-arrow\">transformer: SimpleImputer</label><div class=\"sk-toggleable__content\"><pre>SimpleImputer(strategy=&#x27;most_frequent&#x27;)</pre></div></div></div><div class=\"sk-serial\"><div class=\"sk-item\"><div class=\"sk-estimator sk-toggleable\"><input class=\"sk-toggleable__control sk-hidden--visually\" id=\"sk-estimator-id-11\" type=\"checkbox\" ><label for=\"sk-estimator-id-11\" class=\"sk-toggleable__label sk-toggleable__label-arrow\">SimpleImputer</label><div class=\"sk-toggleable__content\"><pre>SimpleImputer(strategy=&#x27;most_frequent&#x27;)</pre></div></div></div></div></div></div></div></div><div class=\"sk-item sk-dashed-wrapped\"><div class=\"sk-label-container\"><div class=\"sk-label sk-toggleable\"><input class=\"sk-toggleable__control sk-hidden--visually\" id=\"sk-estimator-id-12\" type=\"checkbox\" ><label for=\"sk-estimator-id-12\" class=\"sk-toggleable__label sk-toggleable__label-arrow\">ordinal_encoding: TransformerWrapper</label><div class=\"sk-toggleable__content\"><pre>TransformerWrapper(exclude=None,\n",
       "                   include=[&#x27;Dependents&#x27;, &#x27;MultipleLines&#x27;, &#x27;OnlineSecurity&#x27;,\n",
       "                            &#x27;OnlineBackup&#x27;, &#x27;DeviceProtection&#x27;, &#x27;TechSupport&#x27;,\n",
       "                            &#x27;StreamingTV&#x27;, &#x27;StreamingMovies&#x27;,\n",
       "                            &#x27;PaperlessBilling&#x27;, &#x27;gender&#x27;, &#x27;SeniorCitizen&#x27;],\n",
       "                   transformer=OrdinalEncoder(cols=[&#x27;Dependents&#x27;,\n",
       "                                                    &#x27;MultipleLines&#x27;,\n",
       "                                                    &#x27;OnlineSecurity&#x27;,\n",
       "                                                    &#x27;OnlineBackup&#x27;,\n",
       "                                                    &#x27;DeviceProtection&#x27;,\n",
       "                                                    &#x27;TechSupport&#x27;,\n",
       "                                                    &#x27;StreamingT...\n",
       "                                                       {&#x27;col&#x27;: &#x27;StreamingMovies&#x27;,\n",
       "                                                        &#x27;data_type&#x27;: dtype(&#x27;O&#x27;),\n",
       "                                                        &#x27;mapping&#x27;: No     0\n",
       "Yes    1\n",
       "NaN   -1\n",
       "dtype: int64},\n",
       "                                                       {&#x27;col&#x27;: &#x27;PaperlessBilling&#x27;,\n",
       "                                                        &#x27;data_type&#x27;: dtype(&#x27;O&#x27;),\n",
       "                                                        &#x27;mapping&#x27;: No     0\n",
       "Yes    1\n",
       "NaN   -1\n",
       "dtype: int64},\n",
       "                                                       {&#x27;col&#x27;: &#x27;gender&#x27;,\n",
       "                                                        &#x27;data_type&#x27;: dtype(&#x27;O&#x27;),\n",
       "                                                        &#x27;mapping&#x27;: Female    0\n",
       "Male      1\n",
       "NaN      -1\n",
       "dtype: int64},\n",
       "                                                       {&#x27;col&#x27;: &#x27;SeniorCitizen&#x27;,\n",
       "                                                        &#x27;data_type&#x27;: dtype(&#x27;float64&#x27;),\n",
       "                                                        &#x27;mapping&#x27;: 0.0    0\n",
       "1.0    1\n",
       "NaN   -1\n",
       "dtype: int64}],\n",
       "                                              return_df=True, verbose=0))</pre></div></div></div><div class=\"sk-parallel\"><div class=\"sk-parallel-item\"><div class=\"sk-item\"><div class=\"sk-label-container\"><div class=\"sk-label sk-toggleable\"><input class=\"sk-toggleable__control sk-hidden--visually\" id=\"sk-estimator-id-13\" type=\"checkbox\" ><label for=\"sk-estimator-id-13\" class=\"sk-toggleable__label sk-toggleable__label-arrow\">transformer: OrdinalEncoder</label><div class=\"sk-toggleable__content\"><pre>OrdinalEncoder(cols=[&#x27;Dependents&#x27;, &#x27;MultipleLines&#x27;, &#x27;OnlineSecurity&#x27;,\n",
       "                     &#x27;OnlineBackup&#x27;, &#x27;DeviceProtection&#x27;, &#x27;TechSupport&#x27;,\n",
       "                     &#x27;StreamingTV&#x27;, &#x27;StreamingMovies&#x27;, &#x27;PaperlessBilling&#x27;,\n",
       "                     &#x27;gender&#x27;, &#x27;SeniorCitizen&#x27;],\n",
       "               handle_missing=&#x27;return_nan&#x27;,\n",
       "               mapping=[{&#x27;col&#x27;: &#x27;Dependents&#x27;, &#x27;data_type&#x27;: dtype(&#x27;O&#x27;),\n",
       "                         &#x27;mapping&#x27;: No     0\n",
       "Yes    1\n",
       "NaN   -1\n",
       "dtype: int64},\n",
       "                        {&#x27;col&#x27;: &#x27;MultipleLines&#x27;, &#x27;data_type&#x27;: dtype(&#x27;O...\n",
       "NaN   -1\n",
       "dtype: int64},\n",
       "                        {&#x27;col&#x27;: &#x27;StreamingMovies&#x27;, &#x27;data_type&#x27;: dtype(&#x27;O&#x27;),\n",
       "                         &#x27;mapping&#x27;: No     0\n",
       "Yes    1\n",
       "NaN   -1\n",
       "dtype: int64},\n",
       "                        {&#x27;col&#x27;: &#x27;PaperlessBilling&#x27;, &#x27;data_type&#x27;: dtype(&#x27;O&#x27;),\n",
       "                         &#x27;mapping&#x27;: No     0\n",
       "Yes    1\n",
       "NaN   -1\n",
       "dtype: int64},\n",
       "                        {&#x27;col&#x27;: &#x27;gender&#x27;, &#x27;data_type&#x27;: dtype(&#x27;O&#x27;),\n",
       "                         &#x27;mapping&#x27;: Female    0\n",
       "Male      1\n",
       "NaN      -1\n",
       "dtype: int64},\n",
       "                        {&#x27;col&#x27;: &#x27;SeniorCitizen&#x27;, &#x27;data_type&#x27;: dtype(&#x27;float64&#x27;),\n",
       "                         &#x27;mapping&#x27;: 0.0    0\n",
       "1.0    1\n",
       "NaN   -1\n",
       "dtype: int64}])</pre></div></div></div><div class=\"sk-serial\"><div class=\"sk-item\"><div class=\"sk-estimator sk-toggleable\"><input class=\"sk-toggleable__control sk-hidden--visually\" id=\"sk-estimator-id-14\" type=\"checkbox\" ><label for=\"sk-estimator-id-14\" class=\"sk-toggleable__label sk-toggleable__label-arrow\">OrdinalEncoder</label><div class=\"sk-toggleable__content\"><pre>OrdinalEncoder(cols=[&#x27;Dependents&#x27;, &#x27;MultipleLines&#x27;, &#x27;OnlineSecurity&#x27;,\n",
       "                     &#x27;OnlineBackup&#x27;, &#x27;DeviceProtection&#x27;, &#x27;TechSupport&#x27;,\n",
       "                     &#x27;StreamingTV&#x27;, &#x27;StreamingMovies&#x27;, &#x27;PaperlessBilling&#x27;,\n",
       "                     &#x27;gender&#x27;, &#x27;SeniorCitizen&#x27;],\n",
       "               handle_missing=&#x27;return_nan&#x27;,\n",
       "               mapping=[{&#x27;col&#x27;: &#x27;Dependents&#x27;, &#x27;data_type&#x27;: dtype(&#x27;O&#x27;),\n",
       "                         &#x27;mapping&#x27;: No     0\n",
       "Yes    1\n",
       "NaN   -1\n",
       "dtype: int64},\n",
       "                        {&#x27;col&#x27;: &#x27;MultipleLines&#x27;, &#x27;data_type&#x27;: dtype(&#x27;O...\n",
       "NaN   -1\n",
       "dtype: int64},\n",
       "                        {&#x27;col&#x27;: &#x27;StreamingMovies&#x27;, &#x27;data_type&#x27;: dtype(&#x27;O&#x27;),\n",
       "                         &#x27;mapping&#x27;: No     0\n",
       "Yes    1\n",
       "NaN   -1\n",
       "dtype: int64},\n",
       "                        {&#x27;col&#x27;: &#x27;PaperlessBilling&#x27;, &#x27;data_type&#x27;: dtype(&#x27;O&#x27;),\n",
       "                         &#x27;mapping&#x27;: No     0\n",
       "Yes    1\n",
       "NaN   -1\n",
       "dtype: int64},\n",
       "                        {&#x27;col&#x27;: &#x27;gender&#x27;, &#x27;data_type&#x27;: dtype(&#x27;O&#x27;),\n",
       "                         &#x27;mapping&#x27;: Female    0\n",
       "Male      1\n",
       "NaN      -1\n",
       "dtype: int64},\n",
       "                        {&#x27;col&#x27;: &#x27;SeniorCitizen&#x27;, &#x27;data_type&#x27;: dtype(&#x27;float64&#x27;),\n",
       "                         &#x27;mapping&#x27;: 0.0    0\n",
       "1.0    1\n",
       "NaN   -1\n",
       "dtype: int64}])</pre></div></div></div></div></div></div></div></div><div class=\"sk-item sk-dashed-wrapped\"><div class=\"sk-label-container\"><div class=\"sk-label sk-toggleable\"><input class=\"sk-toggleable__control sk-hidden--visually\" id=\"sk-estimator-id-15\" type=\"checkbox\" ><label for=\"sk-estimator-id-15\" class=\"sk-toggleable__label sk-toggleable__label-arrow\">onehot_encoding: TransformerWrapper</label><div class=\"sk-toggleable__content\"><pre>TransformerWrapper(exclude=None,\n",
       "                   include=[&#x27;InternetService&#x27;, &#x27;Contract&#x27;, &#x27;PaymentMethod&#x27;],\n",
       "                   transformer=OneHotEncoder(cols=[&#x27;InternetService&#x27;,\n",
       "                                                   &#x27;Contract&#x27;,\n",
       "                                                   &#x27;PaymentMethod&#x27;],\n",
       "                                             drop_invariant=False,\n",
       "                                             handle_missing=&#x27;return_nan&#x27;,\n",
       "                                             handle_unknown=&#x27;value&#x27;,\n",
       "                                             return_df=True, use_cat_names=True,\n",
       "                                             verbose=0))</pre></div></div></div><div class=\"sk-parallel\"><div class=\"sk-parallel-item\"><div class=\"sk-item\"><div class=\"sk-label-container\"><div class=\"sk-label sk-toggleable\"><input class=\"sk-toggleable__control sk-hidden--visually\" id=\"sk-estimator-id-16\" type=\"checkbox\" ><label for=\"sk-estimator-id-16\" class=\"sk-toggleable__label sk-toggleable__label-arrow\">transformer: OneHotEncoder</label><div class=\"sk-toggleable__content\"><pre>OneHotEncoder(cols=[&#x27;InternetService&#x27;, &#x27;Contract&#x27;, &#x27;PaymentMethod&#x27;],\n",
       "              handle_missing=&#x27;return_nan&#x27;, use_cat_names=True)</pre></div></div></div><div class=\"sk-serial\"><div class=\"sk-item\"><div class=\"sk-estimator sk-toggleable\"><input class=\"sk-toggleable__control sk-hidden--visually\" id=\"sk-estimator-id-17\" type=\"checkbox\" ><label for=\"sk-estimator-id-17\" class=\"sk-toggleable__label sk-toggleable__label-arrow\">OneHotEncoder</label><div class=\"sk-toggleable__content\"><pre>OneHotEncoder(cols=[&#x27;InternetService&#x27;, &#x27;Contract&#x27;, &#x27;PaymentMethod&#x27;],\n",
       "              handle_missing=&#x27;return_nan&#x27;, use_cat_names=True)</pre></div></div></div></div></div></div></div></div><div class=\"sk-item sk-dashed-wrapped\"><div class=\"sk-label-container\"><div class=\"sk-label sk-toggleable\"><input class=\"sk-toggleable__control sk-hidden--visually\" id=\"sk-estimator-id-18\" type=\"checkbox\" ><label for=\"sk-estimator-id-18\" class=\"sk-toggleable__label sk-toggleable__label-arrow\">remove_multicollinearity: TransformerWrapper</label><div class=\"sk-toggleable__content\"><pre>TransformerWrapper(exclude=[], include=None,\n",
       "                   transformer=RemoveMulticollinearity(threshold=0.9))</pre></div></div></div><div class=\"sk-parallel\"><div class=\"sk-parallel-item\"><div class=\"sk-item\"><div class=\"sk-label-container\"><div class=\"sk-label sk-toggleable\"><input class=\"sk-toggleable__control sk-hidden--visually\" id=\"sk-estimator-id-19\" type=\"checkbox\" ><label for=\"sk-estimator-id-19\" class=\"sk-toggleable__label sk-toggleable__label-arrow\">transformer: RemoveMulticollinearity</label><div class=\"sk-toggleable__content\"><pre>RemoveMulticollinearity(threshold=0.9)</pre></div></div></div><div class=\"sk-serial\"><div class=\"sk-item\"><div class=\"sk-estimator sk-toggleable\"><input class=\"sk-toggleable__control sk-hidden--visually\" id=\"sk-estimator-id-20\" type=\"checkbox\" ><label for=\"sk-estimator-id-20\" class=\"sk-toggleable__label sk-toggleable__label-arrow\">RemoveMulticollinearity</label><div class=\"sk-toggleable__content\"><pre>RemoveMulticollinearity(threshold=0.9)</pre></div></div></div></div></div></div></div></div><div class=\"sk-item sk-dashed-wrapped\"><div class=\"sk-label-container\"><div class=\"sk-label sk-toggleable\"><input class=\"sk-toggleable__control sk-hidden--visually\" id=\"sk-estimator-id-21\" type=\"checkbox\" ><label for=\"sk-estimator-id-21\" class=\"sk-toggleable__label sk-toggleable__label-arrow\">bin_numeric_features: TransformerWrapper</label><div class=\"sk-toggleable__content\"><pre>TransformerWrapper(exclude=None, include=[&#x27;MonthlyCharges&#x27;, &#x27;TotalCharges&#x27;],\n",
       "                   transformer=KBinsDiscretizer(dtype=None, encode=&#x27;ordinal&#x27;,\n",
       "                                                n_bins=5, random_state=None,\n",
       "                                                strategy=&#x27;kmeans&#x27;,\n",
       "                                                subsample=&#x27;warn&#x27;))</pre></div></div></div><div class=\"sk-parallel\"><div class=\"sk-parallel-item\"><div class=\"sk-item\"><div class=\"sk-label-container\"><div class=\"sk-label sk-toggleable\"><input class=\"sk-toggleable__control sk-hidden--visually\" id=\"sk-estimator-id-22\" type=\"checkbox\" ><label for=\"sk-estimator-id-22\" class=\"sk-toggleable__label sk-toggleable__label-arrow\">transformer: KBinsDiscretizer</label><div class=\"sk-toggleable__content\"><pre>KBinsDiscretizer(encode=&#x27;ordinal&#x27;, strategy=&#x27;kmeans&#x27;)</pre></div></div></div><div class=\"sk-serial\"><div class=\"sk-item\"><div class=\"sk-estimator sk-toggleable\"><input class=\"sk-toggleable__control sk-hidden--visually\" id=\"sk-estimator-id-23\" type=\"checkbox\" ><label for=\"sk-estimator-id-23\" class=\"sk-toggleable__label sk-toggleable__label-arrow\">KBinsDiscretizer</label><div class=\"sk-toggleable__content\"><pre>KBinsDiscretizer(encode=&#x27;ordinal&#x27;, strategy=&#x27;kmeans&#x27;)</pre></div></div></div></div></div></div></div></div><div class=\"sk-item sk-dashed-wrapped\"><div class=\"sk-label-container\"><div class=\"sk-label sk-toggleable\"><input class=\"sk-toggleable__control sk-hidden--visually\" id=\"sk-estimator-id-24\" type=\"checkbox\" ><label for=\"sk-estimator-id-24\" class=\"sk-toggleable__label sk-toggleable__label-arrow\">remove_outliers: TransformerWrapper</label><div class=\"sk-toggleable__content\"><pre>TransformerWrapper(exclude=None, include=None,\n",
       "                   transformer=RemoveOutliers(method=&#x27;iforest&#x27;, n_jobs=1,\n",
       "                                              random_state=42, threshold=0.05))</pre></div></div></div><div class=\"sk-parallel\"><div class=\"sk-parallel-item\"><div class=\"sk-item\"><div class=\"sk-label-container\"><div class=\"sk-label sk-toggleable\"><input class=\"sk-toggleable__control sk-hidden--visually\" id=\"sk-estimator-id-25\" type=\"checkbox\" ><label for=\"sk-estimator-id-25\" class=\"sk-toggleable__label sk-toggleable__label-arrow\">transformer: RemoveOutliers</label><div class=\"sk-toggleable__content\"><pre>RemoveOutliers(random_state=42)</pre></div></div></div><div class=\"sk-serial\"><div class=\"sk-item\"><div class=\"sk-estimator sk-toggleable\"><input class=\"sk-toggleable__control sk-hidden--visually\" id=\"sk-estimator-id-26\" type=\"checkbox\" ><label for=\"sk-estimator-id-26\" class=\"sk-toggleable__label sk-toggleable__label-arrow\">RemoveOutliers</label><div class=\"sk-toggleable__content\"><pre>RemoveOutliers(random_state=42)</pre></div></div></div></div></div></div></div></div><div class=\"sk-item sk-dashed-wrapped\"><div class=\"sk-label-container\"><div class=\"sk-label sk-toggleable\"><input class=\"sk-toggleable__control sk-hidden--visually\" id=\"sk-estimator-id-27\" type=\"checkbox\" ><label for=\"sk-estimator-id-27\" class=\"sk-toggleable__label sk-toggleable__label-arrow\">balance: TransformerWrapper</label><div class=\"sk-toggleable__content\"><pre>TransformerWrapper(exclude=None, include=None,\n",
       "                   transformer=FixImbalancer(estimator=SMOTE(k_neighbors=5,\n",
       "                                                             n_jobs=None,\n",
       "                                                             random_state=None,\n",
       "                                                             sampling_strategy=&#x27;auto&#x27;)))</pre></div></div></div><div class=\"sk-parallel\"><div class=\"sk-parallel-item\"><div class=\"sk-item\"><div class=\"sk-label-container\"><div class=\"sk-label sk-toggleable\"><input class=\"sk-toggleable__control sk-hidden--visually\" id=\"sk-estimator-id-28\" type=\"checkbox\" ><label for=\"sk-estimator-id-28\" class=\"sk-toggleable__label sk-toggleable__label-arrow\">transformer: FixImbalancer</label><div class=\"sk-toggleable__content\"><pre>FixImbalancer(estimator=SMOTE())</pre></div></div></div><div class=\"sk-serial\"><div class=\"sk-item sk-dashed-wrapped\"><div class=\"sk-parallel\"><div class=\"sk-parallel-item\"><div class=\"sk-item\"><div class=\"sk-label-container\"><div class=\"sk-label sk-toggleable\"><input class=\"sk-toggleable__control sk-hidden--visually\" id=\"sk-estimator-id-29\" type=\"checkbox\" ><label for=\"sk-estimator-id-29\" class=\"sk-toggleable__label sk-toggleable__label-arrow\">estimator: SMOTE</label><div class=\"sk-toggleable__content\"><pre>SMOTE()</pre></div></div></div><div class=\"sk-serial\"><div class=\"sk-item\"><div class=\"sk-estimator sk-toggleable\"><input class=\"sk-toggleable__control sk-hidden--visually\" id=\"sk-estimator-id-30\" type=\"checkbox\" ><label for=\"sk-estimator-id-30\" class=\"sk-toggleable__label sk-toggleable__label-arrow\">SMOTE</label><div class=\"sk-toggleable__content\"><pre>SMOTE()</pre></div></div></div></div></div></div></div></div></div></div></div></div></div><div class=\"sk-item sk-dashed-wrapped\"><div class=\"sk-label-container\"><div class=\"sk-label sk-toggleable\"><input class=\"sk-toggleable__control sk-hidden--visually\" id=\"sk-estimator-id-31\" type=\"checkbox\" ><label for=\"sk-estimator-id-31\" class=\"sk-toggleable__label sk-toggleable__label-arrow\">transformation: TransformerWrapper</label><div class=\"sk-toggleable__content\"><pre>TransformerWrapper(exclude=None, include=None,\n",
       "                   transformer=PowerTransformer(copy=True, method=&#x27;yeo-johnson&#x27;,\n",
       "                                                standardize=False))</pre></div></div></div><div class=\"sk-parallel\"><div class=\"sk-parallel-item\"><div class=\"sk-item\"><div class=\"sk-label-container\"><div class=\"sk-label sk-toggleable\"><input class=\"sk-toggleable__control sk-hidden--visually\" id=\"sk-estimator-id-32\" type=\"checkbox\" ><label for=\"sk-estimator-id-32\" class=\"sk-toggleable__label sk-toggleable__label-arrow\">transformer: PowerTransformer</label><div class=\"sk-toggleable__content\"><pre>PowerTransformer(standardize=False)</pre></div></div></div><div class=\"sk-serial\"><div class=\"sk-item\"><div class=\"sk-estimator sk-toggleable\"><input class=\"sk-toggleable__control sk-hidden--visually\" id=\"sk-estimator-id-33\" type=\"checkbox\" ><label for=\"sk-estimator-id-33\" class=\"sk-toggleable__label sk-toggleable__label-arrow\">PowerTransformer</label><div class=\"sk-toggleable__content\"><pre>PowerTransformer(standardize=False)</pre></div></div></div></div></div></div></div></div><div class=\"sk-item sk-dashed-wrapped\"><div class=\"sk-label-container\"><div class=\"sk-label sk-toggleable\"><input class=\"sk-toggleable__control sk-hidden--visually\" id=\"sk-estimator-id-34\" type=\"checkbox\" ><label for=\"sk-estimator-id-34\" class=\"sk-toggleable__label sk-toggleable__label-arrow\">normalize: TransformerWrapper</label><div class=\"sk-toggleable__content\"><pre>TransformerWrapper(exclude=None, include=None,\n",
       "                   transformer=StandardScaler(copy=True, with_mean=True,\n",
       "                                              with_std=True))</pre></div></div></div><div class=\"sk-parallel\"><div class=\"sk-parallel-item\"><div class=\"sk-item\"><div class=\"sk-label-container\"><div class=\"sk-label sk-toggleable\"><input class=\"sk-toggleable__control sk-hidden--visually\" id=\"sk-estimator-id-35\" type=\"checkbox\" ><label for=\"sk-estimator-id-35\" class=\"sk-toggleable__label sk-toggleable__label-arrow\">transformer: StandardScaler</label><div class=\"sk-toggleable__content\"><pre>StandardScaler()</pre></div></div></div><div class=\"sk-serial\"><div class=\"sk-item\"><div class=\"sk-estimator sk-toggleable\"><input class=\"sk-toggleable__control sk-hidden--visually\" id=\"sk-estimator-id-36\" type=\"checkbox\" ><label for=\"sk-estimator-id-36\" class=\"sk-toggleable__label sk-toggleable__label-arrow\">StandardScaler</label><div class=\"sk-toggleable__content\"><pre>StandardScaler()</pre></div></div></div></div></div></div></div></div><div class=\"sk-item sk-dashed-wrapped\"><div class=\"sk-label-container\"><div class=\"sk-label sk-toggleable\"><input class=\"sk-toggleable__control sk-hidden--visually\" id=\"sk-estimator-id-37\" type=\"checkbox\" ><label for=\"sk-estimator-id-37\" class=\"sk-toggleable__label sk-toggleable__label-arrow\">pca: TransformerWrapper</label><div class=\"sk-toggleable__content\"><pre>TransformerWrapper(exclude=[], include=None,\n",
       "                   transformer=PCA(copy=True, iterated_power=&#x27;auto&#x27;,\n",
       "                                   n_components=None, n_oversamples=10,\n",
       "                                   power_iteration_normalizer=&#x27;auto&#x27;,\n",
       "                                   random_state=None, svd_solver=&#x27;auto&#x27;,\n",
       "                                   tol=0.0, whiten=False))</pre></div></div></div><div class=\"sk-parallel\"><div class=\"sk-parallel-item\"><div class=\"sk-item\"><div class=\"sk-label-container\"><div class=\"sk-label sk-toggleable\"><input class=\"sk-toggleable__control sk-hidden--visually\" id=\"sk-estimator-id-38\" type=\"checkbox\" ><label for=\"sk-estimator-id-38\" class=\"sk-toggleable__label sk-toggleable__label-arrow\">transformer: PCA</label><div class=\"sk-toggleable__content\"><pre>PCA()</pre></div></div></div><div class=\"sk-serial\"><div class=\"sk-item\"><div class=\"sk-estimator sk-toggleable\"><input class=\"sk-toggleable__control sk-hidden--visually\" id=\"sk-estimator-id-39\" type=\"checkbox\" ><label for=\"sk-estimator-id-39\" class=\"sk-toggleable__label sk-toggleable__label-arrow\">PCA</label><div class=\"sk-toggleable__content\"><pre>PCA()</pre></div></div></div></div></div></div></div></div><div class=\"sk-item sk-dashed-wrapped\"><div class=\"sk-label-container\"><div class=\"sk-label sk-toggleable\"><input class=\"sk-toggleable__control sk-hidden--visually\" id=\"sk-estimator-id-40\" type=\"checkbox\" ><label for=\"sk-estimator-id-40\" class=\"sk-toggleable__label sk-toggleable__label-arrow\">feature_selection: TransformerWrapper</label><div class=\"sk-toggleable__content\"><pre>TransformerWrapper(exclude=[], include=None,\n",
       "                   transformer=SelectFromModel(estimator=LGBMClassifier(boosting_type=&#x27;gbdt&#x27;,\n",
       "                                                                        class_weight=None,\n",
       "                                                                        colsample_bytree=1.0,\n",
       "                                                                        importance_type=&#x27;split&#x27;,\n",
       "                                                                        learning_rate=0.1,\n",
       "                                                                        max_depth=-1,\n",
       "                                                                        min_child_samples=20,\n",
       "                                                                        min_child_weight=0.001,\n",
       "                                                                        min_split_gain=0.0,\n",
       "                                                                        n_estimators=100,\n",
       "                                                                        n_jobs=-1,\n",
       "                                                                        num_leaves=31,\n",
       "                                                                        objective=None,\n",
       "                                                                        random_state=None,\n",
       "                                                                        reg_alpha=0.0,\n",
       "                                                                        reg_lambda=0.0,\n",
       "                                                                        silent=&#x27;warn&#x27;,\n",
       "                                                                        subsample=1.0,\n",
       "                                                                        subsample_for_bin=200000,\n",
       "                                                                        subsample_freq=0),\n",
       "                                               importance_getter=&#x27;auto&#x27;,\n",
       "                                               max_features=3, norm_order=1,\n",
       "                                               prefit=False, threshold=-inf))</pre></div></div></div><div class=\"sk-parallel\"><div class=\"sk-parallel-item\"><div class=\"sk-item\"><div class=\"sk-label-container\"><div class=\"sk-label sk-toggleable\"><input class=\"sk-toggleable__control sk-hidden--visually\" id=\"sk-estimator-id-41\" type=\"checkbox\" ><label for=\"sk-estimator-id-41\" class=\"sk-toggleable__label sk-toggleable__label-arrow\">transformer: SelectFromModel</label><div class=\"sk-toggleable__content\"><pre>SelectFromModel(estimator=LGBMClassifier(), max_features=3, threshold=-inf)</pre></div></div></div><div class=\"sk-serial\"><div class=\"sk-item sk-dashed-wrapped\"><div class=\"sk-parallel\"><div class=\"sk-parallel-item\"><div class=\"sk-item\"><div class=\"sk-label-container\"><div class=\"sk-label sk-toggleable\"><input class=\"sk-toggleable__control sk-hidden--visually\" id=\"sk-estimator-id-42\" type=\"checkbox\" ><label for=\"sk-estimator-id-42\" class=\"sk-toggleable__label sk-toggleable__label-arrow\">estimator: LGBMClassifier</label><div class=\"sk-toggleable__content\"><pre>LGBMClassifier()</pre></div></div></div><div class=\"sk-serial\"><div class=\"sk-item\"><div class=\"sk-estimator sk-toggleable\"><input class=\"sk-toggleable__control sk-hidden--visually\" id=\"sk-estimator-id-43\" type=\"checkbox\" ><label for=\"sk-estimator-id-43\" class=\"sk-toggleable__label sk-toggleable__label-arrow\">LGBMClassifier</label><div class=\"sk-toggleable__content\"><pre>LGBMClassifier()</pre></div></div></div></div></div></div></div></div></div></div></div></div></div><div class=\"sk-item\"><div class=\"sk-estimator sk-toggleable\"><input class=\"sk-toggleable__control sk-hidden--visually\" id=\"sk-estimator-id-44\" type=\"checkbox\" ><label for=\"sk-estimator-id-44\" class=\"sk-toggleable__label sk-toggleable__label-arrow\">LinearDiscriminantAnalysis</label><div class=\"sk-toggleable__content\"><pre>LinearDiscriminantAnalysis()</pre></div></div></div></div></div></div></div>"
      ],
      "text/plain": [
       "Pipeline(memory=FastMemory(location=C:\\Users\\Mehrdad\\AppData\\Local\\Temp\\joblib),\n",
       "         steps=[('label_encoding',\n",
       "                 TransformerWrapperWithInverse(exclude=None, include=None,\n",
       "                                               transformer=LabelEncoder())),\n",
       "                ('numerical_imputer',\n",
       "                 TransformerWrapper(exclude=None,\n",
       "                                    include=['tenure', 'MonthlyCharges',\n",
       "                                             'TotalCharges'],\n",
       "                                    transformer=SimpleImputer(add_indicator=False,\n",
       "                                                              copy=True,...\n",
       "                                                                                         reg_lambda=0.0,\n",
       "                                                                                         silent='warn',\n",
       "                                                                                         subsample=1.0,\n",
       "                                                                                         subsample_for_bin=200000,\n",
       "                                                                                         subsample_freq=0),\n",
       "                                                                importance_getter='auto',\n",
       "                                                                max_features=3,\n",
       "                                                                norm_order=1,\n",
       "                                                                prefit=False,\n",
       "                                                                threshold=-inf))),\n",
       "                ('actual_estimator',\n",
       "                 LinearDiscriminantAnalysis(covariance_estimator=None,\n",
       "                                            n_components=None, priors=None,\n",
       "                                            shrinkage=None, solver='svd',\n",
       "                                            store_covariance=False,\n",
       "                                            tol=0.0001))],\n",
       "         verbose=False)"
      ]
     },
     "execution_count": 24,
     "metadata": {},
     "output_type": "execute_result"
    }
   ],
   "source": [
    "final_model "
   ]
  },
  {
   "cell_type": "markdown",
   "metadata": {
    "tags": []
   },
   "source": [
    "## **Predict Evaluate Data by Model**"
   ]
  },
  {
   "cell_type": "markdown",
   "metadata": {},
   "source": [
    "The remaining 10% data is used to make predictions with unseen samples (evaluate).\n",
    "This data include some outliers and it's how real world data works.\n",
    "It's not necessary to make any transformation on the data, because the model that we built does it."
   ]
  },
  {
   "cell_type": "code",
   "execution_count": 22,
   "metadata": {},
   "outputs": [
    {
     "data": {
      "text/html": [
       "<style type=\"text/css\">\n",
       "</style>\n",
       "<table id=\"T_19cd8\">\n",
       "  <thead>\n",
       "    <tr>\n",
       "      <th class=\"blank level0\" >&nbsp;</th>\n",
       "      <th id=\"T_19cd8_level0_col0\" class=\"col_heading level0 col0\" >Model</th>\n",
       "      <th id=\"T_19cd8_level0_col1\" class=\"col_heading level0 col1\" >Accuracy</th>\n",
       "      <th id=\"T_19cd8_level0_col2\" class=\"col_heading level0 col2\" >AUC</th>\n",
       "      <th id=\"T_19cd8_level0_col3\" class=\"col_heading level0 col3\" >Recall</th>\n",
       "      <th id=\"T_19cd8_level0_col4\" class=\"col_heading level0 col4\" >Prec.</th>\n",
       "      <th id=\"T_19cd8_level0_col5\" class=\"col_heading level0 col5\" >F1</th>\n",
       "      <th id=\"T_19cd8_level0_col6\" class=\"col_heading level0 col6\" >Kappa</th>\n",
       "      <th id=\"T_19cd8_level0_col7\" class=\"col_heading level0 col7\" >MCC</th>\n",
       "    </tr>\n",
       "  </thead>\n",
       "  <tbody>\n",
       "    <tr>\n",
       "      <th id=\"T_19cd8_level0_row0\" class=\"row_heading level0 row0\" >0</th>\n",
       "      <td id=\"T_19cd8_row0_col0\" class=\"data row0 col0\" >Linear Discriminant Analysis</td>\n",
       "      <td id=\"T_19cd8_row0_col1\" class=\"data row0 col1\" >0.7386</td>\n",
       "      <td id=\"T_19cd8_row0_col2\" class=\"data row0 col2\" >0.8100</td>\n",
       "      <td id=\"T_19cd8_row0_col3\" class=\"data row0 col3\" >0.7433</td>\n",
       "      <td id=\"T_19cd8_row0_col4\" class=\"data row0 col4\" >0.5055</td>\n",
       "      <td id=\"T_19cd8_row0_col5\" class=\"data row0 col5\" >0.6017</td>\n",
       "      <td id=\"T_19cd8_row0_col6\" class=\"data row0 col6\" >0.4175</td>\n",
       "      <td id=\"T_19cd8_row0_col7\" class=\"data row0 col7\" >0.4348</td>\n",
       "    </tr>\n",
       "  </tbody>\n",
       "</table>\n"
      ],
      "text/plain": [
       "<pandas.io.formats.style.Styler at 0x1b548a28220>"
      ]
     },
     "metadata": {},
     "output_type": "display_data"
    }
   ],
   "source": [
    "predict_unseen = predict_model(final_model, data = evaluate_set);"
   ]
  },
  {
   "cell_type": "markdown",
   "metadata": {},
   "source": [
    "The unseen data is predicted with accuracy close to train and test accuracy."
   ]
  },
  {
   "cell_type": "markdown",
   "metadata": {
    "tags": []
   },
   "source": [
    "## **Save Model**"
   ]
  },
  {
   "cell_type": "markdown",
   "metadata": {},
   "source": [
    "Finally, we save the model for delivering to deployment team."
   ]
  },
  {
   "cell_type": "code",
   "execution_count": 23,
   "metadata": {},
   "outputs": [
    {
     "name": "stdout",
     "output_type": "stream",
     "text": [
      "Transformation Pipeline and Model Successfully Saved\n"
     ]
    },
    {
     "data": {
      "text/plain": [
       "(Pipeline(memory=FastMemory(location=C:\\Users\\Mehrdad\\AppData\\Local\\Temp\\joblib),\n",
       "          steps=[('label_encoding',\n",
       "                  TransformerWrapperWithInverse(exclude=None, include=None,\n",
       "                                                transformer=LabelEncoder())),\n",
       "                 ('numerical_imputer',\n",
       "                  TransformerWrapper(exclude=None,\n",
       "                                     include=['tenure', 'MonthlyCharges',\n",
       "                                              'TotalCharges'],\n",
       "                                     transformer=SimpleImputer(add_indicator=False,\n",
       "                                                               copy=True,...\n",
       "                                                                                          reg_lambda=0.0,\n",
       "                                                                                          silent='warn',\n",
       "                                                                                          subsample=1.0,\n",
       "                                                                                          subsample_for_bin=200000,\n",
       "                                                                                          subsample_freq=0),\n",
       "                                                                 importance_getter='auto',\n",
       "                                                                 max_features=3,\n",
       "                                                                 norm_order=1,\n",
       "                                                                 prefit=False,\n",
       "                                                                 threshold=-inf))),\n",
       "                 ('actual_estimator',\n",
       "                  LinearDiscriminantAnalysis(covariance_estimator=None,\n",
       "                                             n_components=None, priors=None,\n",
       "                                             shrinkage=None, solver='svd',\n",
       "                                             store_covariance=False,\n",
       "                                             tol=0.0001))],\n",
       "          verbose=False),\n",
       " '../dataset/Model/ChurnPredictionModel.pkl')"
      ]
     },
     "execution_count": 23,
     "metadata": {},
     "output_type": "execute_result"
    }
   ],
   "source": [
    "model_path = \"../dataset/Model/ChurnPredictionModel\"\n",
    "\n",
    "save_model(final_model, model_path)"
   ]
  }
 ],
 "metadata": {
  "deepnote_execution_queue": [],
  "deepnote_notebook_id": "497b2b00-2745-4e74-8e16-e5aa6c3bc967",
  "deepnote_published_id": "d199ab1b-3789-4aa7-ab73-a81f9f5bf811",
  "kernelspec": {
   "display_name": "Python 3 (ipykernel)",
   "language": "python",
   "name": "python3"
  },
  "language_info": {
   "codemirror_mode": {
    "name": "ipython",
    "version": 3
   },
   "file_extension": ".py",
   "mimetype": "text/x-python",
   "name": "python",
   "nbconvert_exporter": "python",
   "pygments_lexer": "ipython3",
   "version": "3.10.9"
  }
 },
 "nbformat": 4,
 "nbformat_minor": 4
}
